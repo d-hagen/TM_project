{
 "cells": [
  {
   "cell_type": "code",
   "execution_count": 2,
   "id": "85a14836",
   "metadata": {},
   "outputs": [],
   "source": [
    "from sklearn.metrics import plot_confusion_matrix\n",
    "import pandas as pd\n",
    "import nltk\n",
    "import numpy as np\n",
    "import seaborn as sns\n",
    "from nltk.tokenize import TweetTokenizer\n",
    "from sklearn.model_selection import train_test_split\n",
    "from sklearn.feature_extraction.text import TfidfTransformer\n",
    "from sklearn.linear_model import LogisticRegression\n",
    "from sklearn.feature_extraction.text import CountVectorizer\n",
    "from sklearn.metrics import accuracy_score\n",
    "from sklearn.metrics import precision_score\n",
    "import matplotlib.pyplot as plt\n",
    "from sklearn.metrics import confusion_matrix\n",
    "from sklearn.utils.multiclass import unique_labels\n",
    "from sklearn.svm import SVC"
   ]
  },
  {
   "cell_type": "code",
   "execution_count": 1,
   "id": "1d1d5f7a",
   "metadata": {},
   "outputs": [
    {
     "data": {
      "text/plain": [
       "2"
      ]
     },
     "execution_count": 1,
     "metadata": {},
     "output_type": "execute_result"
    }
   ],
   "source": [
    "1+1"
   ]
  },
  {
   "cell_type": "code",
   "execution_count": 3,
   "id": "f5a4b868",
   "metadata": {},
   "outputs": [],
   "source": [
    "df = pd.read_csv(\"blogtext.csv\")"
   ]
  },
  {
   "cell_type": "code",
   "execution_count": 4,
   "id": "1fd8163f",
   "metadata": {},
   "outputs": [
    {
     "data": {
      "text/html": [
       "<div>\n",
       "<style scoped>\n",
       "    .dataframe tbody tr th:only-of-type {\n",
       "        vertical-align: middle;\n",
       "    }\n",
       "\n",
       "    .dataframe tbody tr th {\n",
       "        vertical-align: top;\n",
       "    }\n",
       "\n",
       "    .dataframe thead th {\n",
       "        text-align: right;\n",
       "    }\n",
       "</style>\n",
       "<table border=\"1\" class=\"dataframe\">\n",
       "  <thead>\n",
       "    <tr style=\"text-align: right;\">\n",
       "      <th></th>\n",
       "      <th>id</th>\n",
       "      <th>gender</th>\n",
       "      <th>age</th>\n",
       "      <th>topic</th>\n",
       "      <th>sign</th>\n",
       "      <th>date</th>\n",
       "      <th>text</th>\n",
       "    </tr>\n",
       "  </thead>\n",
       "  <tbody>\n",
       "    <tr>\n",
       "      <th>0</th>\n",
       "      <td>2059027</td>\n",
       "      <td>male</td>\n",
       "      <td>15</td>\n",
       "      <td>Student</td>\n",
       "      <td>Leo</td>\n",
       "      <td>14,May,2004</td>\n",
       "      <td>Info has been found (+/- 100 pages,...</td>\n",
       "    </tr>\n",
       "    <tr>\n",
       "      <th>1</th>\n",
       "      <td>2059027</td>\n",
       "      <td>male</td>\n",
       "      <td>15</td>\n",
       "      <td>Student</td>\n",
       "      <td>Leo</td>\n",
       "      <td>13,May,2004</td>\n",
       "      <td>These are the team members:   Drewe...</td>\n",
       "    </tr>\n",
       "    <tr>\n",
       "      <th>2</th>\n",
       "      <td>2059027</td>\n",
       "      <td>male</td>\n",
       "      <td>15</td>\n",
       "      <td>Student</td>\n",
       "      <td>Leo</td>\n",
       "      <td>12,May,2004</td>\n",
       "      <td>In het kader van kernfusie op aarde...</td>\n",
       "    </tr>\n",
       "    <tr>\n",
       "      <th>3</th>\n",
       "      <td>2059027</td>\n",
       "      <td>male</td>\n",
       "      <td>15</td>\n",
       "      <td>Student</td>\n",
       "      <td>Leo</td>\n",
       "      <td>12,May,2004</td>\n",
       "      <td>testing!!!  testing!!!</td>\n",
       "    </tr>\n",
       "    <tr>\n",
       "      <th>4</th>\n",
       "      <td>3581210</td>\n",
       "      <td>male</td>\n",
       "      <td>33</td>\n",
       "      <td>InvestmentBanking</td>\n",
       "      <td>Aquarius</td>\n",
       "      <td>11,June,2004</td>\n",
       "      <td>Thanks to Yahoo!'s Toolbar I can ...</td>\n",
       "    </tr>\n",
       "  </tbody>\n",
       "</table>\n",
       "</div>"
      ],
      "text/plain": [
       "        id gender  age              topic      sign          date  \\\n",
       "0  2059027   male   15            Student       Leo   14,May,2004   \n",
       "1  2059027   male   15            Student       Leo   13,May,2004   \n",
       "2  2059027   male   15            Student       Leo   12,May,2004   \n",
       "3  2059027   male   15            Student       Leo   12,May,2004   \n",
       "4  3581210   male   33  InvestmentBanking  Aquarius  11,June,2004   \n",
       "\n",
       "                                                text  \n",
       "0             Info has been found (+/- 100 pages,...  \n",
       "1             These are the team members:   Drewe...  \n",
       "2             In het kader van kernfusie op aarde...  \n",
       "3                   testing!!!  testing!!!            \n",
       "4               Thanks to Yahoo!'s Toolbar I can ...  "
      ]
     },
     "execution_count": 4,
     "metadata": {},
     "output_type": "execute_result"
    }
   ],
   "source": [
    "df.head()"
   ]
  },
  {
   "cell_type": "code",
   "execution_count": 5,
   "id": "b11ad868",
   "metadata": {},
   "outputs": [],
   "source": [
    "df_train , df_test =  train_test_split(df , test_size=0.15)"
   ]
  },
  {
   "cell_type": "code",
   "execution_count": 6,
   "id": "fe2cb73b",
   "metadata": {},
   "outputs": [],
   "source": [
    "tk = TweetTokenizer()\n",
    "\n",
    "stpW = [ 'stop', 'the', 'to', 'and', 'a', 'in', 'it', 'is', 'I', \n",
    "        'that', 'had', 'on', 'for', 'were', 'was' , \"It\" , \"The\",\"A\", \"In\" ,\"And\"]   \n",
    "def token(text): ### tokenizes but also removes stop words    \n",
    "    text = tk.tokenize(text)\n",
    "    s= 0\n",
    "    #print(text)\n",
    "    while s<len(text):\n",
    "        if text[s] in stpW:\n",
    "            #print(text[s])\n",
    "            text.pop(s)\n",
    "            #print(text[s])\n",
    "        else:\n",
    "            s += 1\n",
    "    return text"
   ]
  },
  {
   "cell_type": "code",
   "execution_count": 7,
   "id": "956816c9",
   "metadata": {},
   "outputs": [],
   "source": [
    "count_vect = CountVectorizer(tokenizer=token)      ##\n",
    "tf_transformer = TfidfTransformer(use_idf=False)   #try running with tfd set to true"
   ]
  },
  {
   "cell_type": "code",
   "execution_count": 9,
   "id": "e6d082f5",
   "metadata": {},
   "outputs": [],
   "source": [
    "X_train = count_vect.fit_transform(df_train.text[:50000])"
   ]
  },
  {
   "cell_type": "code",
   "execution_count": 10,
   "id": "5aa42bbd",
   "metadata": {},
   "outputs": [],
   "source": [
    "X_test = count_vect.transform(df_test.text)\n",
    "X_train_tf = tf_transformer.fit_transform(X_train)"
   ]
  },
  {
   "cell_type": "code",
   "execution_count": 11,
   "id": "9864dea1",
   "metadata": {},
   "outputs": [],
   "source": [
    "y_train_tf = df_train.age[:50000]\n",
    "y_test_tf = df_test.age"
   ]
  },
  {
   "cell_type": "code",
   "execution_count": 12,
   "id": "1a2146d7",
   "metadata": {},
   "outputs": [],
   "source": [
    "X_test_tf = tf_transformer.transform(X_test)"
   ]
  },
  {
   "cell_type": "code",
   "execution_count": 13,
   "id": "c36a12bb",
   "metadata": {},
   "outputs": [
    {
     "name": "stderr",
     "output_type": "stream",
     "text": [
      "c:\\users\\dan hagen\\appdata\\local\\programs\\python\\python39\\lib\\site-packages\\sklearn\\linear_model\\_logistic.py:763: ConvergenceWarning: lbfgs failed to converge (status=1):\n",
      "STOP: TOTAL NO. of ITERATIONS REACHED LIMIT.\n",
      "\n",
      "Increase the number of iterations (max_iter) or scale the data as shown in:\n",
      "    https://scikit-learn.org/stable/modules/preprocessing.html\n",
      "Please also refer to the documentation for alternative solver options:\n",
      "    https://scikit-learn.org/stable/modules/linear_model.html#logistic-regression\n",
      "  n_iter_i = _check_optimize_result(\n"
     ]
    },
    {
     "data": {
      "text/plain": [
       "LogisticRegression()"
      ]
     },
     "execution_count": 13,
     "metadata": {},
     "output_type": "execute_result"
    }
   ],
   "source": [
    "logreg = LogisticRegression()\n",
    "logreg.fit(X_train_tf , y_train_tf)"
   ]
  },
  {
   "cell_type": "code",
   "execution_count": 14,
   "id": "881a8ef7",
   "metadata": {},
   "outputs": [],
   "source": [
    "y_hat_test = logreg.predict(X_test_tf)   #### array of predcted ages "
   ]
  },
  {
   "cell_type": "markdown",
   "id": "e111aa17",
   "metadata": {},
   "source": [
    "## SVC"
   ]
  },
  {
   "cell_type": "code",
   "execution_count": 16,
   "id": "e1a217da",
   "metadata": {},
   "outputs": [
    {
     "data": {
      "text/plain": [
       "SVC()"
      ]
     },
     "execution_count": 16,
     "metadata": {},
     "output_type": "execute_result"
    }
   ],
   "source": [
    "svc = SVC()\n",
    "svc.fit(X_train_tf , y_train_tf)"
   ]
  },
  {
   "cell_type": "code",
   "execution_count": 17,
   "id": "2dd53f44",
   "metadata": {},
   "outputs": [],
   "source": [
    "y_svc_test = svc.predict(X_test_tf)\n"
   ]
  },
  {
   "cell_type": "markdown",
   "id": "8925fdaf",
   "metadata": {},
   "source": [
    "pls run grid search/randomized search for the svc model (will take a while run over night )"
   ]
  },
  {
   "cell_type": "markdown",
   "id": "21e5f629",
   "metadata": {},
   "source": [
    "## Evaluation below"
   ]
  },
  {
   "cell_type": "markdown",
   "id": "bd0fda65",
   "metadata": {},
   "source": [
    "### evaluation logregression"
   ]
  },
  {
   "cell_type": "code",
   "execution_count": 18,
   "id": "a93accf0",
   "metadata": {},
   "outputs": [
    {
     "name": "stdout",
     "output_type": "stream",
     "text": [
      "0.19297799262180385\n",
      "[0.         0.3092182  0.22845691 0.21542172 0.23782772 0.15006684\n",
      " 0.16501712 0.1658256  0.14221517 0.14493949 0.1875     0.27011744\n",
      " 0.54263566 0.30769231 0.92405063 1.         0.         1.\n",
      " 0.         0.66666667 0.         0.         0.66666667 0.\n",
      " 0.         0.72972973]\n"
     ]
    },
    {
     "name": "stderr",
     "output_type": "stream",
     "text": [
      "c:\\users\\dan hagen\\appdata\\local\\programs\\python\\python39\\lib\\site-packages\\sklearn\\metrics\\_classification.py:1248: UndefinedMetricWarning: Precision is ill-defined and being set to 0.0 in labels with no predicted samples. Use `zero_division` parameter to control this behavior.\n",
      "  _warn_prf(average, modifier, msg_start, len(result))\n"
     ]
    }
   ],
   "source": [
    "print(accuracy_score(y_test_tf, y_hat_test))\n",
    "print(precision_score(y_test_tf, y_hat_test,average=None))"
   ]
  },
  {
   "cell_type": "code",
   "execution_count": 19,
   "id": "1f3411ea",
   "metadata": {},
   "outputs": [
    {
     "data": {
      "text/plain": [
       "array([13, 14, 15, 16, 17, 23, 24, 25, 26, 27, 33, 34, 35, 36, 37, 38, 39,\n",
       "       40, 41, 42, 43, 44, 45, 46, 47, 48], dtype=int64)"
      ]
     },
     "execution_count": 19,
     "metadata": {},
     "output_type": "execute_result"
    }
   ],
   "source": [
    "logreg.classes_"
   ]
  },
  {
   "cell_type": "code",
   "execution_count": 20,
   "id": "cb2a00d9",
   "metadata": {},
   "outputs": [],
   "source": [
    "\n",
    "\n",
    "def count(k, lis):  \n",
    "    c = 0\n",
    "    for i in lis: ### change  to what list \n",
    "        if i == k:\n",
    "            c = c+1\n",
    "    return c\n",
    "            \n",
    "            "
   ]
  },
  {
   "cell_type": "code",
   "execution_count": 21,
   "id": "b85f90b1",
   "metadata": {},
   "outputs": [],
   "source": [
    "counts = []     ##### counts how often age group is represnted in list\n",
    "\n",
    "for i in logreg.classes_:\n",
    "    counts.append(count(i, y_test_tf))     \n",
    "    "
   ]
  },
  {
   "cell_type": "code",
   "execution_count": 22,
   "id": "033458e9",
   "metadata": {},
   "outputs": [
    {
     "data": {
      "text/plain": [
       "array([17, 34, 26, 27, 16, 17, 17, 25, 24, 16, 23, 34, 16, 17, 24, 48, 17,\n",
       "       34, 23, 16, 23, 24, 23, 24, 24, 16, 23, 15, 24, 17, 23, 16, 24, 23,\n",
       "       24, 24, 24, 23, 23, 23, 23, 23, 16, 24, 17, 23, 24, 24, 16, 24, 24,\n",
       "       23, 16, 25, 23, 23, 24, 24, 23, 25, 24, 23, 23, 17, 23, 16, 23, 24,\n",
       "       16, 35, 24, 24, 24, 16, 24, 16, 34, 16, 24, 17, 24, 27, 25, 25, 15,\n",
       "       24, 16, 17, 26, 27, 24, 24, 16, 16, 17, 24, 27, 25, 24, 16],\n",
       "      dtype=int64)"
      ]
     },
     "execution_count": 22,
     "metadata": {},
     "output_type": "execute_result"
    }
   ],
   "source": [
    "y_hat_test[:100]   "
   ]
  },
  {
   "cell_type": "code",
   "execution_count": 23,
   "id": "5aae6f5f",
   "metadata": {},
   "outputs": [
    {
     "data": {
      "text/plain": [
       "array([24, 34, 35, 27, 17, 14, 36, 24, 23, 16, 15, 34, 15, 14, 46, 13, 39,\n",
       "       34, 25, 23, 25, 27, 33, 27, 16, 16, 26, 16, 26, 14, 25, 16, 27, 17,\n",
       "       23, 34, 25, 27, 17, 17, 25, 24, 35, 37, 16, 25, 48, 24, 15, 38, 24,\n",
       "       33, 24, 25, 37, 27, 26, 33, 24, 23, 43, 25, 36, 25, 35, 27, 16, 33,\n",
       "       42, 35, 36, 23, 25, 23, 25, 15, 24, 16, 39, 27, 26, 16, 24, 15, 17,\n",
       "       24, 43, 17, 24, 27, 25, 17, 26, 15, 25, 17, 47, 24, 17, 13],\n",
       "      dtype=int64)"
      ]
     },
     "execution_count": 23,
     "metadata": {},
     "output_type": "execute_result"
    }
   ],
   "source": [
    "y_test_tf.values[:100] ###array of acctual ages "
   ]
  },
  {
   "cell_type": "code",
   "execution_count": 24,
   "id": "2e51292f",
   "metadata": {},
   "outputs": [],
   "source": [
    "l = y_hat_test-y_test_tf.values   ### creates a list of diffrence between predicted ages and actual ages\n",
    "\n",
    "g= []    #### all negativ values are made positiv so just distanec between pred and actual value\n",
    "for i in l:\n",
    "    if i< 0:\n",
    "        g.append(-i)\n",
    "    else:\n",
    "        g.append(i)\n"
   ]
  },
  {
   "cell_type": "code",
   "execution_count": 25,
   "id": "8a7edcac",
   "metadata": {},
   "outputs": [],
   "source": [
    "h = 0   #####summs all distances to get avarege distance \n",
    "for i in  g:\n",
    "    h= h + i"
   ]
  },
  {
   "cell_type": "code",
   "execution_count": 26,
   "id": "a55594f6",
   "metadata": {},
   "outputs": [
    {
     "data": {
      "text/plain": [
       "5.027868836417367"
      ]
     },
     "execution_count": 26,
     "metadata": {},
     "output_type": "execute_result"
    }
   ],
   "source": [
    "h/len(g) ##### avarge mistake/difference in age (+-) "
   ]
  },
  {
   "cell_type": "markdown",
   "id": "0b6565e0",
   "metadata": {},
   "source": [
    "The mean age diffrance is already quite good. But it does have strong outliners(up to 35 years). So maybe we could try diffrente training function than log.reg. or split the age to age groupes "
   ]
  },
  {
   "cell_type": "code",
   "execution_count": 27,
   "id": "4e1a9cfe",
   "metadata": {},
   "outputs": [
    {
     "data": {
      "text/plain": [
       "35"
      ]
     },
     "execution_count": 27,
     "metadata": {},
     "output_type": "execute_result"
    }
   ],
   "source": [
    "max(g)  ### higest mistake/distance"
   ]
  },
  {
   "cell_type": "code",
   "execution_count": 28,
   "id": "b1eea230",
   "metadata": {},
   "outputs": [
    {
     "data": {
      "image/png": "[encoded data removed]",
      "text/plain": [
       "<Figure size 432x288 with 1 Axes>"
      ]
     },
     "metadata": {
      "needs_background": "light"
     },
     "output_type": "display_data"
    }
   ],
   "source": [
    "i = 0\n",
    "x=[]\n",
    "while i <= max(g):\n",
    "    x.append(g.count(i))\n",
    "    i= i+1\n",
    "y =list(range(36))\n",
    "plt.bar(y,x)\n",
    "plt.title('Predicted vs actual age diferences')\n",
    "plt.xlabel('age diffrencee')\n",
    "plt.ylabel('amount')\n",
    "plt.show()"
   ]
  },
  {
   "cell_type": "code",
   "execution_count": 26,
   "id": "d69e9aec",
   "metadata": {},
   "outputs": [
    {
     "data": {
      "text/plain": [
       "array([  53,  205,  609, 3037, 3667,  757, 1566,  493,  217,  185,    0,\n",
       "        106,    4,    4,    1,    4,    0,    0,    0,    0,    0,    0,\n",
       "          0,    0,    0,   12], dtype=int64)"
      ]
     },
     "execution_count": 26,
     "metadata": {},
     "output_type": "execute_result"
    }
   ],
   "source": [
    "cf_matrix = confusion_matrix(list(y_test_tf.values), y_hat_test)\n",
    "cf_matrix[3]"
   ]
  },
  {
   "cell_type": "code",
   "execution_count": 27,
   "id": "11645e95",
   "metadata": {
    "scrolled": true
   },
   "outputs": [
    {
     "data": {
      "image/png": "[encoded data removed]",
      "text/plain": [
       "<Figure size 2880x2880 with 2 Axes>"
      ]
     },
     "metadata": {},
     "output_type": "display_data"
    }
   ],
   "source": [
    "sns.set(rc =  {'figure.figsize':(40,40)},font_scale = 1)\n",
    "\n",
    "ax = sns.heatmap(cf_matrix, annot=True, \n",
    "             cmap='Blues' )\n",
    "\n",
    "\n",
    "\n",
    "\n",
    "ax.set_title('Seaborn Confusion Matrix with labels\\n\\n');\n",
    "ax.set_xlabel('\\nPredicted Age')\n",
    "ax.set_ylabel('Actual Age ');\n",
    "\n",
    "\n",
    "\n",
    "\n",
    "## Display the visualization of the Confusion Matrix.\n",
    "plt.show()"
   ]
  },
  {
   "cell_type": "markdown",
   "id": "f5645241",
   "metadata": {},
   "source": [
    "## evaluating svc"
   ]
  },
  {
   "cell_type": "code",
   "execution_count": 30,
   "id": "48d126b5",
   "metadata": {},
   "outputs": [
    {
     "name": "stdout",
     "output_type": "stream",
     "text": [
      "0.20090417151859716\n",
      "[1.         0.6730038  0.40862944 0.23687619 0.23790291 0.15796755\n",
      " 0.16008457 0.1793246  0.21037464 0.17337165 0.5        0.5814234\n",
      " 0.71428571 0.8        0.98837209 1.         0.         1.\n",
      " 0.         0.66666667 1.         0.         0.         0.\n",
      " 0.         0.92215569]\n"
     ]
    },
    {
     "name": "stderr",
     "output_type": "stream",
     "text": [
      "c:\\users\\dan hagen\\appdata\\local\\programs\\python\\python39\\lib\\site-packages\\sklearn\\metrics\\_classification.py:1248: UndefinedMetricWarning: Precision is ill-defined and being set to 0.0 in labels with no predicted samples. Use `zero_division` parameter to control this behavior.\n",
      "  _warn_prf(average, modifier, msg_start, len(result))\n"
     ]
    }
   ],
   "source": [
    "print(accuracy_score(y_test_tf, y_svc_test))\n",
    "print(precision_score(y_test_tf, y_svc_test,average=None))"
   ]
  },
  {
   "cell_type": "code",
   "execution_count": 31,
   "id": "a40e7d8e",
   "metadata": {},
   "outputs": [
    {
     "name": "stdout",
     "output_type": "stream",
     "text": [
      "0.19297799262180385\n",
      "[0.         0.3092182  0.22845691 0.21542172 0.23782772 0.15006684\n",
      " 0.16501712 0.1658256  0.14221517 0.14493949 0.1875     0.27011744\n",
      " 0.54263566 0.30769231 0.92405063 1.         0.         1.\n",
      " 0.         0.66666667 0.         0.         0.66666667 0.\n",
      " 0.         0.72972973]\n"
     ]
    },
    {
     "name": "stderr",
     "output_type": "stream",
     "text": [
      "c:\\users\\dan hagen\\appdata\\local\\programs\\python\\python39\\lib\\site-packages\\sklearn\\metrics\\_classification.py:1248: UndefinedMetricWarning: Precision is ill-defined and being set to 0.0 in labels with no predicted samples. Use `zero_division` parameter to control this behavior.\n",
      "  _warn_prf(average, modifier, msg_start, len(result))\n"
     ]
    }
   ],
   "source": [
    "print(accuracy_score(y_test_tf, y_hat_test))\n",
    "print(precision_score(y_test_tf, y_hat_test,average=None))"
   ]
  },
  {
   "cell_type": "code",
   "execution_count": 33,
   "id": "4c912c97",
   "metadata": {},
   "outputs": [],
   "source": [
    "l = y_svc_test-y_test_tf.values   ### creates a list of diffrence between predicted ages and actual ages\n",
    "\n",
    "g= []    #### all negativ values are made positiv so just distanec between pred and actual value\n",
    "for i in l:\n",
    "    if i< 0:\n",
    "        g.append(-i)\n",
    "    else:\n",
    "        g.append(i)\n",
    "h = 0   #####summs all distances to get avarege distance \n",
    "for i in  g:\n",
    "    h= h + i"
   ]
  },
  {
   "cell_type": "code",
   "execution_count": 34,
   "id": "f789a732",
   "metadata": {},
   "outputs": [
    {
     "data": {
      "text/plain": [
       "4.904836926208253"
      ]
     },
     "execution_count": 34,
     "metadata": {},
     "output_type": "execute_result"
    }
   ],
   "source": [
    "h/len(g)"
   ]
  },
  {
   "cell_type": "code",
   "execution_count": 36,
   "id": "2d8fa452",
   "metadata": {},
   "outputs": [
    {
     "data": {
      "text/plain": [
       "33"
      ]
     },
     "execution_count": 36,
     "metadata": {},
     "output_type": "execute_result"
    }
   ],
   "source": [
    "max(g)"
   ]
  },
  {
   "cell_type": "code",
   "execution_count": 38,
   "id": "0bec2fb9",
   "metadata": {},
   "outputs": [
    {
     "data": {
      "image/png": "[encoded data removed]",
      "text/plain": [
       "<Figure size 432x288 with 1 Axes>"
      ]
     },
     "metadata": {
      "needs_background": "light"
     },
     "output_type": "display_data"
    }
   ],
   "source": [
    "i = 0\n",
    "x=[]\n",
    "while i <= max(g):\n",
    "    x.append(g.count(i))\n",
    "    i= i+1\n",
    "y =list(range(34))\n",
    "plt.bar(y,x)\n",
    "plt.title('Predicted vs actual age diferences')\n",
    "plt.xlabel('age diffrencee')\n",
    "plt.ylabel('amount')\n",
    "plt.show()"
   ]
  },
  {
   "cell_type": "markdown",
   "id": "05bc76ff",
   "metadata": {},
   "source": [
    "# Predicting signs as a joke  "
   ]
  },
  {
   "cell_type": "code",
   "execution_count": 13,
   "id": "d1d4f955",
   "metadata": {},
   "outputs": [],
   "source": [
    "stars= [\"Aries\", \"Taurus\", \"Gemini\", \"Cancer\", \"Leo\", \"Virgo\", \"Libra\", \n",
    "        \"Scorpio\", \"Sagittarius\", \"Capricorn\", \"Aquarius\", \"Pisces\"]\n",
    "\n",
    "def star(lis):\n",
    "    k = []\n",
    "    for i in lis:\n",
    "        k.append(stars.index(i))\n",
    "    return k\n"
   ]
  },
  {
   "cell_type": "code",
   "execution_count": 14,
   "id": "cbc1dc76",
   "metadata": {},
   "outputs": [
    {
     "data": {
      "text/plain": [
       "[7,\n",
       " 7,\n",
       " 1,\n",
       " 1,\n",
       " 6,\n",
       " 1,\n",
       " 1,\n",
       " 3,\n",
       " 0,\n",
       " 11,\n",
       " 1,\n",
       " 9,\n",
       " 7,\n",
       " 3,\n",
       " 5,\n",
       " 5,\n",
       " 9,\n",
       " 1,\n",
       " 11,\n",
       " 2,\n",
       " 3,\n",
       " 7,\n",
       " 1,\n",
       " 4,\n",
       " 4,\n",
       " 0,\n",
       " 1,\n",
       " 1,\n",
       " 7,\n",
       " 9,\n",
       " 3,\n",
       " 2,\n",
       " 6,\n",
       " 3,\n",
       " 2,\n",
       " 7,\n",
       " 5,\n",
       " 11,\n",
       " 10,\n",
       " 8,\n",
       " 3,\n",
       " 10,\n",
       " 3,\n",
       " 1,\n",
       " 1,\n",
       " 7,\n",
       " 0,\n",
       " 2,\n",
       " 11,\n",
       " 7,\n",
       " 1,\n",
       " 5,\n",
       " 2,\n",
       " 1,\n",
       " 3,\n",
       " 4,\n",
       " 5,\n",
       " 2,\n",
       " 1,\n",
       " 2,\n",
       " 1,\n",
       " 0,\n",
       " 5,\n",
       " 10,\n",
       " 3,\n",
       " 7,\n",
       " 5,\n",
       " 9,\n",
       " 11,\n",
       " 0,\n",
       " 9,\n",
       " 3,\n",
       " 4,\n",
       " 11,\n",
       " 9,\n",
       " 4,\n",
       " 9,\n",
       " 4,\n",
       " 5,\n",
       " 11,\n",
       " 9,\n",
       " 7,\n",
       " 3,\n",
       " 0,\n",
       " 11,\n",
       " 1,\n",
       " 1,\n",
       " 4,\n",
       " 1,\n",
       " 7,\n",
       " 10,\n",
       " 9,\n",
       " 5,\n",
       " 1,\n",
       " 3,\n",
       " 0,\n",
       " 11,\n",
       " 3,\n",
       " 2,\n",
       " 6,\n",
       " 0,\n",
       " 11,\n",
       " 0,\n",
       " 5,\n",
       " 5,\n",
       " 3,\n",
       " 8,\n",
       " 5,\n",
       " 5,\n",
       " 3,\n",
       " 8,\n",
       " 11,\n",
       " 7,\n",
       " 9,\n",
       " 3,\n",
       " 10,\n",
       " 8,\n",
       " 0,\n",
       " 2,\n",
       " 0,\n",
       " 10,\n",
       " 10,\n",
       " 7,\n",
       " 8,\n",
       " 11,\n",
       " 3,\n",
       " 6,\n",
       " 11,\n",
       " 9,\n",
       " 6,\n",
       " 7,\n",
       " 3,\n",
       " 10,\n",
       " 10,\n",
       " 6,\n",
       " 2,\n",
       " 8,\n",
       " 8,\n",
       " 1,\n",
       " 6,\n",
       " 0,\n",
       " 2,\n",
       " 10,\n",
       " 5,\n",
       " 7,\n",
       " 5,\n",
       " 5,\n",
       " 6,\n",
       " 3,\n",
       " 5,\n",
       " 9,\n",
       " 0,\n",
       " 7,\n",
       " 8,\n",
       " 3,\n",
       " 3,\n",
       " 1,\n",
       " 0,\n",
       " 1,\n",
       " 10,\n",
       " 0,\n",
       " 1,\n",
       " 8,\n",
       " 11,\n",
       " 10,\n",
       " 2,\n",
       " 2,\n",
       " 5,\n",
       " 8,\n",
       " 10,\n",
       " 1,\n",
       " 0,\n",
       " 1,\n",
       " 8,\n",
       " 7,\n",
       " 9,\n",
       " 3,\n",
       " 8,\n",
       " 0,\n",
       " 6,\n",
       " 3,\n",
       " 6,\n",
       " 2,\n",
       " 9,\n",
       " 11,\n",
       " 3,\n",
       " 0,\n",
       " 7,\n",
       " 4,\n",
       " 3,\n",
       " 10,\n",
       " 2,\n",
       " 10,\n",
       " 0,\n",
       " 0,\n",
       " 3,\n",
       " 11,\n",
       " 11,\n",
       " 10,\n",
       " 5,\n",
       " 5,\n",
       " 0,\n",
       " 3,\n",
       " 8,\n",
       " 6,\n",
       " 7,\n",
       " 0,\n",
       " 3,\n",
       " 8,\n",
       " 7,\n",
       " 9,\n",
       " 8,\n",
       " 3,\n",
       " 6,\n",
       " 11,\n",
       " 5,\n",
       " 3,\n",
       " 8,\n",
       " 10,\n",
       " 8,\n",
       " 7,\n",
       " 6,\n",
       " 8,\n",
       " 1,\n",
       " 11,\n",
       " 3,\n",
       " 1,\n",
       " 5,\n",
       " 11,\n",
       " 6,\n",
       " 1,\n",
       " 8,\n",
       " 3,\n",
       " 5,\n",
       " 5,\n",
       " 2,\n",
       " 0,\n",
       " 3,\n",
       " 9,\n",
       " 9,\n",
       " 0,\n",
       " 0,\n",
       " 8,\n",
       " 10,\n",
       " 9,\n",
       " 2,\n",
       " 4,\n",
       " 2,\n",
       " 1,\n",
       " 11,\n",
       " 4,\n",
       " 6,\n",
       " 11,\n",
       " 8,\n",
       " 1,\n",
       " 0,\n",
       " 8,\n",
       " 9,\n",
       " 10,\n",
       " 7,\n",
       " 0,\n",
       " 6,\n",
       " 1,\n",
       " 3,\n",
       " 2,\n",
       " 7,\n",
       " 3,\n",
       " 7,\n",
       " 6,\n",
       " 9,\n",
       " 4,\n",
       " 9,\n",
       " 11,\n",
       " 6,\n",
       " 1,\n",
       " 1,\n",
       " 3,\n",
       " 9,\n",
       " 11,\n",
       " 1,\n",
       " 10,\n",
       " 8,\n",
       " 2,\n",
       " 6,\n",
       " 4,\n",
       " 0,\n",
       " 10,\n",
       " 9,\n",
       " 10,\n",
       " 2,\n",
       " 2,\n",
       " 3,\n",
       " 3,\n",
       " 9,\n",
       " 6,\n",
       " 4,\n",
       " 8,\n",
       " 7,\n",
       " 10,\n",
       " 6,\n",
       " 6,\n",
       " 6,\n",
       " 9,\n",
       " 10,\n",
       " 10,\n",
       " 0,\n",
       " 6,\n",
       " 5,\n",
       " 9,\n",
       " 9,\n",
       " 11,\n",
       " 0,\n",
       " 0,\n",
       " 10,\n",
       " 7,\n",
       " 8,\n",
       " 11,\n",
       " 4,\n",
       " 6,\n",
       " 5,\n",
       " 9,\n",
       " 3,\n",
       " 7,\n",
       " 3,\n",
       " 4,\n",
       " 10,\n",
       " 11,\n",
       " 9,\n",
       " 7,\n",
       " 3,\n",
       " 9,\n",
       " 5,\n",
       " 0,\n",
       " 9,\n",
       " 1,\n",
       " 0,\n",
       " 1,\n",
       " 5,\n",
       " 8,\n",
       " 9,\n",
       " 4,\n",
       " 9,\n",
       " 8,\n",
       " 4,\n",
       " 9,\n",
       " 6,\n",
       " 7,\n",
       " 8,\n",
       " 7,\n",
       " 6,\n",
       " 7,\n",
       " 2,\n",
       " 1,\n",
       " 0,\n",
       " 10,\n",
       " 9,\n",
       " 7,\n",
       " 0,\n",
       " 6,\n",
       " 6,\n",
       " 4,\n",
       " 9,\n",
       " 4,\n",
       " 5,\n",
       " 5,\n",
       " 9,\n",
       " 6,\n",
       " 3,\n",
       " 0,\n",
       " 9,\n",
       " 7,\n",
       " 7,\n",
       " 1,\n",
       " 5,\n",
       " 1,\n",
       " 6,\n",
       " 2,\n",
       " 6,\n",
       " 8,\n",
       " 7,\n",
       " 0,\n",
       " 6,\n",
       " 10,\n",
       " 10,\n",
       " 11,\n",
       " 8,\n",
       " 0,\n",
       " 7,\n",
       " 6,\n",
       " 5,\n",
       " 6,\n",
       " 10,\n",
       " 4,\n",
       " 11,\n",
       " 10,\n",
       " 7,\n",
       " 7,\n",
       " 9,\n",
       " 10,\n",
       " 5,\n",
       " 2,\n",
       " 2,\n",
       " 1,\n",
       " 1,\n",
       " 6,\n",
       " 3,\n",
       " 1,\n",
       " 10,\n",
       " 2,\n",
       " 9,\n",
       " 1,\n",
       " 11,\n",
       " 1,\n",
       " 1,\n",
       " 8,\n",
       " 5,\n",
       " 11,\n",
       " 0,\n",
       " 9,\n",
       " 5,\n",
       " 6,\n",
       " 9,\n",
       " 4,\n",
       " 10,\n",
       " 2,\n",
       " 3,\n",
       " 6,\n",
       " 11,\n",
       " 5,\n",
       " 3,\n",
       " 4,\n",
       " 10,\n",
       " 5,\n",
       " 3,\n",
       " 8,\n",
       " 10,\n",
       " 10,\n",
       " 5,\n",
       " 10,\n",
       " 1,\n",
       " 7,\n",
       " 5,\n",
       " 11,\n",
       " 1,\n",
       " 5,\n",
       " 3,\n",
       " 7,\n",
       " 3,\n",
       " 11,\n",
       " 3,\n",
       " 3,\n",
       " 1,\n",
       " 4,\n",
       " 6,\n",
       " 0,\n",
       " 7,\n",
       " 10,\n",
       " 2,\n",
       " 6,\n",
       " 10,\n",
       " 1,\n",
       " 0,\n",
       " 6,\n",
       " 3,\n",
       " 2,\n",
       " 6,\n",
       " 2,\n",
       " 8,\n",
       " 11,\n",
       " 7,\n",
       " 6,\n",
       " 1,\n",
       " 10,\n",
       " 7,\n",
       " 8,\n",
       " 6,\n",
       " 8,\n",
       " 7,\n",
       " 2,\n",
       " 8,\n",
       " 6,\n",
       " 11,\n",
       " 10,\n",
       " 6,\n",
       " 5,\n",
       " 7,\n",
       " 2,\n",
       " 10,\n",
       " 5,\n",
       " 4,\n",
       " 10,\n",
       " 0,\n",
       " 7,\n",
       " 5,\n",
       " 0,\n",
       " 1,\n",
       " 11,\n",
       " 5,\n",
       " 8,\n",
       " 11,\n",
       " 10,\n",
       " 6,\n",
       " 7,\n",
       " 11,\n",
       " 10,\n",
       " 6,\n",
       " 3,\n",
       " 2,\n",
       " 5,\n",
       " 2,\n",
       " 6,\n",
       " 4,\n",
       " 4,\n",
       " 7,\n",
       " 10,\n",
       " 4,\n",
       " 8,\n",
       " 1,\n",
       " 9,\n",
       " 3,\n",
       " 7,\n",
       " 6,\n",
       " 5,\n",
       " 3,\n",
       " 9,\n",
       " 8,\n",
       " 3,\n",
       " 1,\n",
       " 9,\n",
       " 5,\n",
       " 10,\n",
       " 8,\n",
       " 8,\n",
       " 2,\n",
       " 1,\n",
       " 7,\n",
       " 9,\n",
       " 8,\n",
       " 1,\n",
       " 3,\n",
       " 7,\n",
       " 5,\n",
       " 5,\n",
       " 10,\n",
       " 0,\n",
       " 0,\n",
       " 10,\n",
       " 3,\n",
       " 0,\n",
       " 5,\n",
       " 1,\n",
       " 0,\n",
       " 7,\n",
       " 3,\n",
       " 0,\n",
       " 8,\n",
       " 4,\n",
       " 0,\n",
       " 5,\n",
       " 6,\n",
       " 4,\n",
       " 4,\n",
       " 7,\n",
       " 3,\n",
       " 8,\n",
       " 3,\n",
       " 8,\n",
       " 3,\n",
       " 1,\n",
       " 11,\n",
       " 1,\n",
       " 8,\n",
       " 10,\n",
       " 5,\n",
       " 1,\n",
       " 5,\n",
       " 9,\n",
       " 5,\n",
       " 11,\n",
       " 5,\n",
       " 8,\n",
       " 11,\n",
       " 3,\n",
       " 6,\n",
       " 8,\n",
       " 6,\n",
       " 2,\n",
       " 6,\n",
       " 10,\n",
       " 6,\n",
       " 11,\n",
       " 5,\n",
       " 6,\n",
       " 9,\n",
       " 0,\n",
       " 6,\n",
       " 11,\n",
       " 11,\n",
       " 1,\n",
       " 1,\n",
       " 11,\n",
       " 9,\n",
       " 0,\n",
       " 3,\n",
       " 5,\n",
       " 9,\n",
       " 6,\n",
       " 1,\n",
       " 10,\n",
       " 0,\n",
       " 0,\n",
       " 7,\n",
       " 3,\n",
       " 9,\n",
       " 3,\n",
       " 10,\n",
       " 9,\n",
       " 9,\n",
       " 3,\n",
       " 5,\n",
       " 5,\n",
       " 9,\n",
       " 10,\n",
       " 11,\n",
       " 0,\n",
       " 10,\n",
       " 11,\n",
       " 11,\n",
       " 4,\n",
       " 9,\n",
       " 5,\n",
       " 9,\n",
       " 9,\n",
       " 1,\n",
       " 3,\n",
       " 9,\n",
       " 3,\n",
       " 3,\n",
       " 0,\n",
       " 8,\n",
       " 8,\n",
       " 5,\n",
       " 0,\n",
       " 9,\n",
       " 8,\n",
       " 10,\n",
       " 5,\n",
       " 10,\n",
       " 10,\n",
       " 4,\n",
       " 9,\n",
       " 7,\n",
       " 10,\n",
       " 6,\n",
       " 0,\n",
       " 1,\n",
       " 0,\n",
       " 3,\n",
       " 4,\n",
       " 6,\n",
       " 1,\n",
       " 4,\n",
       " 8,\n",
       " 5,\n",
       " 3,\n",
       " 9,\n",
       " 1,\n",
       " 1,\n",
       " 1,\n",
       " 5,\n",
       " 7,\n",
       " 9,\n",
       " 3,\n",
       " 5,\n",
       " 0,\n",
       " 4,\n",
       " 11,\n",
       " 3,\n",
       " 8,\n",
       " 4,\n",
       " 7,\n",
       " 2,\n",
       " 0,\n",
       " 2,\n",
       " 10,\n",
       " 5,\n",
       " 9,\n",
       " 7,\n",
       " 11,\n",
       " 7,\n",
       " 0,\n",
       " 9,\n",
       " 6,\n",
       " 6,\n",
       " 5,\n",
       " 7,\n",
       " 7,\n",
       " 1,\n",
       " 8,\n",
       " 1,\n",
       " 1,\n",
       " 10,\n",
       " 11,\n",
       " 5,\n",
       " 1,\n",
       " 9,\n",
       " 9,\n",
       " 4,\n",
       " 2,\n",
       " 3,\n",
       " 10,\n",
       " 6,\n",
       " 7,\n",
       " 9,\n",
       " 11,\n",
       " 8,\n",
       " 3,\n",
       " 4,\n",
       " 9,\n",
       " 5,\n",
       " 11,\n",
       " 0,\n",
       " 2,\n",
       " 2,\n",
       " 1,\n",
       " 8,\n",
       " 6,\n",
       " 1,\n",
       " 6,\n",
       " 11,\n",
       " 11,\n",
       " 3,\n",
       " 9,\n",
       " 10,\n",
       " 3,\n",
       " 9,\n",
       " 1,\n",
       " 2,\n",
       " 7,\n",
       " 10,\n",
       " 2,\n",
       " 4,\n",
       " 5,\n",
       " 1,\n",
       " 1,\n",
       " 4,\n",
       " 2,\n",
       " 0,\n",
       " 10,\n",
       " 3,\n",
       " 0,\n",
       " 3,\n",
       " 3,\n",
       " 6,\n",
       " 3,\n",
       " 8,\n",
       " 5,\n",
       " 6,\n",
       " 5,\n",
       " 6,\n",
       " 2,\n",
       " 5,\n",
       " 4,\n",
       " 1,\n",
       " 0,\n",
       " 0,\n",
       " 3,\n",
       " 3,\n",
       " 1,\n",
       " 11,\n",
       " 7,\n",
       " 6,\n",
       " 5,\n",
       " 6,\n",
       " 2,\n",
       " 1,\n",
       " 5,\n",
       " 9,\n",
       " 3,\n",
       " 7,\n",
       " 3,\n",
       " 1,\n",
       " 1,\n",
       " 11,\n",
       " 7,\n",
       " 6,\n",
       " 7,\n",
       " 6,\n",
       " 8,\n",
       " 10,\n",
       " 10,\n",
       " 4,\n",
       " 1,\n",
       " 10,\n",
       " 5,\n",
       " 5,\n",
       " 7,\n",
       " 1,\n",
       " 11,\n",
       " 7,\n",
       " 1,\n",
       " 1,\n",
       " 10,\n",
       " 0,\n",
       " 4,\n",
       " 7,\n",
       " 0,\n",
       " 3,\n",
       " 1,\n",
       " 11,\n",
       " 6,\n",
       " 0,\n",
       " 6,\n",
       " 10,\n",
       " 0,\n",
       " 6,\n",
       " 5,\n",
       " 9,\n",
       " 0,\n",
       " 1,\n",
       " 6,\n",
       " 5,\n",
       " 2,\n",
       " 2,\n",
       " 6,\n",
       " 1,\n",
       " 8,\n",
       " 4,\n",
       " 6,\n",
       " 6,\n",
       " 1,\n",
       " 2,\n",
       " 2,\n",
       " 0,\n",
       " 0,\n",
       " 11,\n",
       " 8,\n",
       " 9,\n",
       " 6,\n",
       " 11,\n",
       " 11,\n",
       " 6,\n",
       " 1,\n",
       " 7,\n",
       " 0,\n",
       " 11,\n",
       " 4,\n",
       " 6,\n",
       " 8,\n",
       " 2,\n",
       " 8,\n",
       " 4,\n",
       " 0,\n",
       " 2,\n",
       " 2,\n",
       " 1,\n",
       " 6,\n",
       " 11,\n",
       " 3,\n",
       " 6,\n",
       " 4,\n",
       " 6,\n",
       " 10,\n",
       " 10,\n",
       " 6,\n",
       " 6,\n",
       " 1,\n",
       " 6,\n",
       " 9,\n",
       " 9,\n",
       " 1,\n",
       " 0,\n",
       " 2,\n",
       " 6,\n",
       " 7,\n",
       " 8,\n",
       " 11,\n",
       " 6,\n",
       " 7,\n",
       " 1,\n",
       " 2,\n",
       " 3,\n",
       " 9,\n",
       " 8,\n",
       " 1,\n",
       " 0,\n",
       " 3,\n",
       " 8,\n",
       " 3,\n",
       " 11,\n",
       " 4,\n",
       " 2,\n",
       " 6,\n",
       " 8,\n",
       " 0,\n",
       " 1,\n",
       " 9,\n",
       " 3,\n",
       " 8,\n",
       " 0,\n",
       " 3,\n",
       " 11,\n",
       " 0,\n",
       " 6,\n",
       " 4,\n",
       " 4,\n",
       " 5,\n",
       " 2,\n",
       " 10,\n",
       " 9,\n",
       " 1,\n",
       " 11,\n",
       " 10,\n",
       " 3,\n",
       " 5,\n",
       " 2,\n",
       " 10,\n",
       " 3,\n",
       " 1,\n",
       " 6,\n",
       " 11,\n",
       " 7,\n",
       " 11,\n",
       " 3,\n",
       " 8,\n",
       " 4,\n",
       " 0,\n",
       " 0,\n",
       " 6,\n",
       " 8,\n",
       " 10,\n",
       " 9,\n",
       " 0,\n",
       " 9,\n",
       " 0,\n",
       " 0,\n",
       " 8,\n",
       " 3,\n",
       " 10,\n",
       " 5,\n",
       " 11,\n",
       " 1,\n",
       " 0,\n",
       " 8,\n",
       " 1,\n",
       " 1,\n",
       " 1,\n",
       " 0,\n",
       " 8,\n",
       " 9,\n",
       " 1,\n",
       " 9,\n",
       " 3,\n",
       " 5,\n",
       " 3,\n",
       " 3,\n",
       " 5,\n",
       " 1,\n",
       " 3,\n",
       " 5,\n",
       " 4,\n",
       " 7,\n",
       " 5,\n",
       " 5,\n",
       " 7,\n",
       " 9,\n",
       " 1,\n",
       " 8,\n",
       " 7,\n",
       " 10,\n",
       " 9,\n",
       " 8,\n",
       " 11,\n",
       " 10,\n",
       " 8,\n",
       " 10,\n",
       " 8,\n",
       " 4,\n",
       " 4,\n",
       " 7,\n",
       " 8,\n",
       " 5,\n",
       " 2,\n",
       " 10,\n",
       " 10,\n",
       " 0,\n",
       " 9,\n",
       " 7,\n",
       " 5,\n",
       " 4,\n",
       " 7,\n",
       " 10,\n",
       " 7,\n",
       " 3,\n",
       " 1,\n",
       " 0,\n",
       " 8,\n",
       " 5,\n",
       " 6,\n",
       " 6,\n",
       " ...]"
      ]
     },
     "execution_count": 14,
     "metadata": {},
     "output_type": "execute_result"
    }
   ],
   "source": [
    "star(df_train.sign)"
   ]
  },
  {
   "cell_type": "code",
   "execution_count": 15,
   "id": "e29dea6c",
   "metadata": {},
   "outputs": [],
   "source": [
    "y_train_start = star(df_train.sign)\n",
    "\n",
    "y_test_star = star(df_test.sign)"
   ]
  },
  {
   "cell_type": "code",
   "execution_count": 17,
   "id": "7d1d4d85",
   "metadata": {},
   "outputs": [
    {
     "name": "stderr",
     "output_type": "stream",
     "text": [
      "c:\\users\\dan hagen\\appdata\\local\\programs\\python\\python39\\lib\\site-packages\\sklearn\\linear_model\\_logistic.py:763: ConvergenceWarning: lbfgs failed to converge (status=1):\n",
      "STOP: TOTAL NO. of ITERATIONS REACHED LIMIT.\n",
      "\n",
      "Increase the number of iterations (max_iter) or scale the data as shown in:\n",
      "    https://scikit-learn.org/stable/modules/preprocessing.html\n",
      "Please also refer to the documentation for alternative solver options:\n",
      "    https://scikit-learn.org/stable/modules/linear_model.html#logistic-regression\n",
      "  n_iter_i = _check_optimize_result(\n"
     ]
    },
    {
     "data": {
      "text/plain": [
       "LogisticRegression()"
      ]
     },
     "execution_count": 17,
     "metadata": {},
     "output_type": "execute_result"
    }
   ],
   "source": [
    "logreg = LogisticRegression()\n",
    "logreg.fit(X_train_tf , y_train_start)"
   ]
  },
  {
   "cell_type": "code",
   "execution_count": 18,
   "id": "3251af1b",
   "metadata": {},
   "outputs": [
    {
     "name": "stdout",
     "output_type": "stream",
     "text": [
      "0.16776100124274657\n"
     ]
    }
   ],
   "source": [
    "y_hat_test = logreg.predict(X_test_tf)   #### array of predcted ages \n",
    "print(accuracy_score(y_test_star, y_hat_test))"
   ]
  },
  {
   "cell_type": "code",
   "execution_count": 21,
   "id": "4b030358",
   "metadata": {},
   "outputs": [],
   "source": [
    "l = y_hat_test-y_test_star   ### creates a list of diffrence between predicted ages and actual ages\n",
    "\n",
    "g= []    #### all negativ values are made positiv so just distanec between pred and actual value\n",
    "for i in l:\n",
    "    if i< 0:\n",
    "        g.append(-i)\n",
    "    else:\n",
    "        g.append(i)"
   ]
  },
  {
   "cell_type": "code",
   "execution_count": 22,
   "id": "040d73ee",
   "metadata": {},
   "outputs": [],
   "source": [
    "h = 0   #####summs all distances to get avarege distance \n",
    "for i in  g:\n",
    "    h= h + i"
   ]
  },
  {
   "cell_type": "code",
   "execution_count": 23,
   "id": "b1dc9485",
   "metadata": {},
   "outputs": [
    {
     "data": {
      "text/plain": [
       "3.6003738025109353"
      ]
     },
     "execution_count": 23,
     "metadata": {},
     "output_type": "execute_result"
    }
   ],
   "source": [
    "h/len(g) "
   ]
  },
  {
   "cell_type": "code",
   "execution_count": 24,
   "id": "88e926d0",
   "metadata": {},
   "outputs": [
    {
     "data": {
      "image/png": "[encoded data removed]",
      "text/plain": [
       "<Figure size 432x288 with 1 Axes>"
      ]
     },
     "metadata": {
      "needs_background": "light"
     },
     "output_type": "display_data"
    }
   ],
   "source": [
    "i = 0\n",
    "x=[]\n",
    "while i <= max(g):\n",
    "    x.append(g.count(i))\n",
    "    i= i+1\n",
    "y =list(range(12))\n",
    "plt.bar(y,x)\n",
    "plt.title('Predicted vs actual age diferences')\n",
    "plt.xlabel('age diffrencee')\n",
    "plt.ylabel('amount')\n",
    "plt.show()"
   ]
  },
  {
   "cell_type": "markdown",
   "id": "82ab7261",
   "metadata": {},
   "source": [
    "## Combined ages\n"
   ]
  },
  {
   "cell_type": "code",
   "execution_count": null,
   "id": "1d69b203",
   "metadata": {},
   "outputs": [],
   "source": [
    "def combine(a):                                      ###############################################\n",
    "    i= 0\n",
    "    while i < len(a):\n",
    "        if a[i] == 17:\n",
    "            a[i]= 15\n",
    "            i= i+ 1\n",
    "        elif a[i] == 14:\n",
    "            a[i]= 13\n",
    "            i= i+ 1\n",
    "        elif a[i] == 16:\n",
    "            a[i]= 15\n",
    "            i= i+ 1\n",
    "        elif a[i] == 24:\n",
    "            a[i]= 23\n",
    "            i= i+ 1\n",
    "        elif a[i] == 26:\n",
    "            a[i]= 25\n",
    "            i= i+ 1\n",
    "        elif a[i] == 27:\n",
    "            a[i]= 25\n",
    "            i= i+ 1\n",
    "        elif a[i] == 34:\n",
    "            a[i]= 33\n",
    "            i= i+ 1\n",
    "        elif a[i] == 36:\n",
    "            a[i]= 35\n",
    "            i= i+ 1\n",
    "        elif a[i] == 38:\n",
    "            a[i]= 37\n",
    "            i= i+ 1\n",
    "        elif a[i] == 40:\n",
    "            a[i]= 39\n",
    "            i= i+ 1\n",
    "        elif a[i] == 42:\n",
    "            a[i]= 41\n",
    "            i= i+ 1\n",
    "        elif a[i] == 44:\n",
    "            a[i]= 43\n",
    "            i= i+ 1\n",
    "        elif a[i] == 46:\n",
    "            a[i]= 45\n",
    "            i= i+ 1\n",
    "        elif a[i] == 48:\n",
    "            a[i]= 47\n",
    "            i= i+ 1\n",
    "        else:\n",
    "            i=i+1"
   ]
  },
  {
   "cell_type": "code",
   "execution_count": null,
   "id": "6bce5231",
   "metadata": {},
   "outputs": [],
   "source": [
    "y_train_red = df_train.age.values\n",
    "y_test_red = df_test.age.values"
   ]
  },
  {
   "cell_type": "code",
   "execution_count": null,
   "id": "4e3b1d5d",
   "metadata": {},
   "outputs": [],
   "source": [
    "combine(y_train)\n",
    "combine(y_test)"
   ]
  },
  {
   "cell_type": "code",
   "execution_count": null,
   "id": "86b4800d",
   "metadata": {},
   "outputs": [],
   "source": [
    "y_train_red = y_train_red.astype('int')\n",
    "y_test_red = y_test_red.astype('int')"
   ]
  },
  {
   "cell_type": "code",
   "execution_count": null,
   "id": "947064e1",
   "metadata": {},
   "outputs": [],
   "source": [
    "logreg2 = LogisticRegression()"
   ]
  },
  {
   "cell_type": "code",
   "execution_count": null,
   "id": "71165cd3",
   "metadata": {},
   "outputs": [],
   "source": [
    "logreg2.fit(X_train_tf , y_train_red)"
   ]
  },
  {
   "cell_type": "code",
   "execution_count": null,
   "id": "e0907cec",
   "metadata": {},
   "outputs": [],
   "source": [
    "y_hat_red = logreg2.predict(X_test_tf)"
   ]
  },
  {
   "cell_type": "code",
   "execution_count": null,
   "id": "0fb11e46",
   "metadata": {},
   "outputs": [],
   "source": [
    "print(accuracy_score(y_test_red, y_hat_red))\n",
    "print(precision_score(y_test_red, y_hat_red,average=None))"
   ]
  },
  {
   "cell_type": "code",
   "execution_count": null,
   "id": "19b9433f",
   "metadata": {},
   "outputs": [],
   "source": [
    "logreg.classes_"
   ]
  },
  {
   "cell_type": "code",
   "execution_count": null,
   "id": "c22144ca",
   "metadata": {},
   "outputs": [],
   "source": [
    "counts"
   ]
  },
  {
   "cell_type": "code",
   "execution_count": null,
   "id": "4709be6f",
   "metadata": {},
   "outputs": [],
   "source": [
    "l = y_hat_red-y_test_red   ### creates a list of diffrence between predicted ages and actual ages\n",
    "\n",
    "g= []    #### all negativ values are made positiv so just distanec between pred and actual value\n",
    "for i in l:\n",
    "    if i< 0:\n",
    "        g.append(-i)\n",
    "    else:\n",
    "        g.append(i)\n"
   ]
  },
  {
   "cell_type": "code",
   "execution_count": null,
   "id": "1a7b0ffa",
   "metadata": {},
   "outputs": [],
   "source": [
    "h = 0   #####summs all distances to get avarege distance \n",
    "for i in  g:\n",
    "    h= h + i"
   ]
  },
  {
   "cell_type": "code",
   "execution_count": null,
   "id": "4334490b",
   "metadata": {},
   "outputs": [],
   "source": [
    "h/len(g) "
   ]
  },
  {
   "cell_type": "code",
   "execution_count": null,
   "id": "7a290193",
   "metadata": {},
   "outputs": [],
   "source": [
    "max(g)"
   ]
  },
  {
   "cell_type": "code",
   "execution_count": null,
   "id": "e01f2aa9",
   "metadata": {},
   "outputs": [],
   "source": [
    "i = 0\n",
    "x=[]\n",
    "while i <= max(g):\n",
    "    x.append(g.count(i))\n",
    "    i= i+1\n",
    "y =list(range(35))\n",
    "plt.bar(y,x)\n",
    "plt.title('Predicted vs actual age diferences')\n",
    "plt.xlabel('age diffrencee')\n",
    "plt.ylabel('amount')\n",
    "plt.show()"
   ]
  },
  {
   "cell_type": "code",
   "execution_count": null,
   "id": "b36c8d6c",
   "metadata": {},
   "outputs": [],
   "source": [
    "def combine_decades(a):\n",
    "    i = 0\n",
    "    while i < len(a):\n",
    "        if a[i] <20:\n",
    "            a[i]= 10\n",
    "            i= i+ 1\n",
    "        elif a[i] <30:\n",
    "            a[i]= 20\n",
    "            i= i+ 1\n",
    "        elif a[i]< 40:\n",
    "            a[i]= 30\n",
    "            i= i+ 1\n",
    "        elif a[i]< 50:\n",
    "            a[i]= 40\n",
    "            i =i+1"
   ]
  },
  {
   "cell_type": "code",
   "execution_count": null,
   "id": "f5ceb629",
   "metadata": {},
   "outputs": [],
   "source": [
    "y_train_dec = df_train.age.values\n",
    "y_test_dec = df_test.age.values"
   ]
  },
  {
   "cell_type": "code",
   "execution_count": null,
   "id": "9c3ad4e3",
   "metadata": {},
   "outputs": [],
   "source": [
    "combine_decades(y_train)\n",
    "combine_decades(y_test)"
   ]
  },
  {
   "cell_type": "code",
   "execution_count": null,
   "id": "96510d8b",
   "metadata": {},
   "outputs": [],
   "source": [
    "y_train_dec = y_train_dec.astype('int')\n",
    "y_test_dec= y_test_dec.astype('int')"
   ]
  },
  {
   "cell_type": "code",
   "execution_count": null,
   "id": "b35ed372",
   "metadata": {},
   "outputs": [],
   "source": [
    "logreg3 = LogisticRegression()"
   ]
  },
  {
   "cell_type": "code",
   "execution_count": null,
   "id": "2a9f3b35",
   "metadata": {},
   "outputs": [],
   "source": [
    "logreg3.fit(X_train_tf , y_train_dec)"
   ]
  },
  {
   "cell_type": "code",
   "execution_count": null,
   "id": "a975d828",
   "metadata": {},
   "outputs": [],
   "source": [
    "y_hat_dec = logreg3.predict(X_test_tf)"
   ]
  },
  {
   "cell_type": "code",
   "execution_count": null,
   "id": "0b4a49bb",
   "metadata": {},
   "outputs": [],
   "source": [
    "print(accuracy_score(y_test_dec, y_hat_dec))\n",
    "print(precision_score(y_test_dec, y_hat_dec,average=None))"
   ]
  },
  {
   "cell_type": "code",
   "execution_count": null,
   "id": "b60f7e8a",
   "metadata": {},
   "outputs": [],
   "source": [
    "l = y_hat_dec-y_test_dec   ### creates a list of diffrence between predicted ages and actual ages\n",
    "\n",
    "g= []    #### all negativ values are made positiv so just distanec between pred and actual value\n",
    "for i in l:\n",
    "    if i< 0:\n",
    "        g.append(-i)\n",
    "    else:\n",
    "        g.append(i)\n",
    "\n",
    "        \n",
    "h = 0   #####summs all distances to get avarege distance \n",
    "for i in  g:\n",
    "    h= h + i"
   ]
  },
  {
   "cell_type": "code",
   "execution_count": null,
   "id": "51c6cfb9",
   "metadata": {},
   "outputs": [],
   "source": [
    "h/len(g) "
   ]
  },
  {
   "cell_type": "code",
   "execution_count": null,
   "id": "25be1892",
   "metadata": {},
   "outputs": [],
   "source": [
    "max(g)"
   ]
  },
  {
   "cell_type": "code",
   "execution_count": null,
   "id": "0b8633f5",
   "metadata": {},
   "outputs": [],
   "source": [
    "i = 0\n",
    "x=[]\n",
    "while i <= max(g):\n",
    "    x.append(g.count(i))\n",
    "    i= i+1\n",
    "y =list(range(21))\n",
    "plt.bar(y,x)\n",
    "plt.title('Predicted vs actual age diferences')\n",
    "plt.xlabel('age diffrencee')\n",
    "plt.ylabel('amount')\n",
    "plt.show()"
   ]
  },
  {
   "cell_type": "code",
   "execution_count": null,
   "id": "db1d800d",
   "metadata": {},
   "outputs": [],
   "source": [
    "cf_matrix = confusion_matrix(y_test_dec, y_hat_dec)\n",
    "cf_matrix"
   ]
  },
  {
   "cell_type": "code",
   "execution_count": null,
   "id": "77c79cd3",
   "metadata": {},
   "outputs": [],
   "source": [
    "sns.set(rc =  {'figure.figsize':(40,40)},font_scale = 5)\n",
    "\n",
    "ax = sns.heatmap(cf_matrix, annot=True, \n",
    "             cmap='Blues' )\n",
    "\n",
    "\n",
    "\n",
    "\n",
    "ax.set_title('Seaborn Confusion Matrix with labels\\n\\n');\n",
    "ax.set_xlabel('\\nPredicted Age')\n",
    "ax.set_ylabel('Actual Age ');\n",
    "\n",
    "\n",
    "\n",
    "\n",
    "## Display the visualization of the Confusion Matrix.\n",
    "plt.show()"
   ]
  },
  {
   "cell_type": "markdown",
   "id": "a2ce700e",
   "metadata": {},
   "source": [
    "## Adding ngrams"
   ]
  },
  {
   "cell_type": "code",
   "execution_count": 6,
   "id": "33fe6932",
   "metadata": {},
   "outputs": [
    {
     "data": {
      "text/html": [
       "<div>\n",
       "<style scoped>\n",
       "    .dataframe tbody tr th:only-of-type {\n",
       "        vertical-align: middle;\n",
       "    }\n",
       "\n",
       "    .dataframe tbody tr th {\n",
       "        vertical-align: top;\n",
       "    }\n",
       "\n",
       "    .dataframe thead th {\n",
       "        text-align: right;\n",
       "    }\n",
       "</style>\n",
       "<table border=\"1\" class=\"dataframe\">\n",
       "  <thead>\n",
       "    <tr style=\"text-align: right;\">\n",
       "      <th></th>\n",
       "      <th>id</th>\n",
       "      <th>gender</th>\n",
       "      <th>age</th>\n",
       "      <th>topic</th>\n",
       "      <th>sign</th>\n",
       "      <th>date</th>\n",
       "      <th>text</th>\n",
       "    </tr>\n",
       "  </thead>\n",
       "  <tbody>\n",
       "    <tr>\n",
       "      <th>0</th>\n",
       "      <td>2059027</td>\n",
       "      <td>male</td>\n",
       "      <td>15</td>\n",
       "      <td>Student</td>\n",
       "      <td>Leo</td>\n",
       "      <td>14,May,2004</td>\n",
       "      <td>Info has been found (+/- 100 pages,...</td>\n",
       "    </tr>\n",
       "    <tr>\n",
       "      <th>1</th>\n",
       "      <td>2059027</td>\n",
       "      <td>male</td>\n",
       "      <td>15</td>\n",
       "      <td>Student</td>\n",
       "      <td>Leo</td>\n",
       "      <td>13,May,2004</td>\n",
       "      <td>These are the team members:   Drewe...</td>\n",
       "    </tr>\n",
       "    <tr>\n",
       "      <th>2</th>\n",
       "      <td>2059027</td>\n",
       "      <td>male</td>\n",
       "      <td>15</td>\n",
       "      <td>Student</td>\n",
       "      <td>Leo</td>\n",
       "      <td>12,May,2004</td>\n",
       "      <td>In het kader van kernfusie op aarde...</td>\n",
       "    </tr>\n",
       "    <tr>\n",
       "      <th>3</th>\n",
       "      <td>2059027</td>\n",
       "      <td>male</td>\n",
       "      <td>15</td>\n",
       "      <td>Student</td>\n",
       "      <td>Leo</td>\n",
       "      <td>12,May,2004</td>\n",
       "      <td>testing!!!  testing!!!</td>\n",
       "    </tr>\n",
       "    <tr>\n",
       "      <th>4</th>\n",
       "      <td>3581210</td>\n",
       "      <td>male</td>\n",
       "      <td>33</td>\n",
       "      <td>InvestmentBanking</td>\n",
       "      <td>Aquarius</td>\n",
       "      <td>11,June,2004</td>\n",
       "      <td>Thanks to Yahoo!'s Toolbar I can ...</td>\n",
       "    </tr>\n",
       "  </tbody>\n",
       "</table>\n",
       "</div>"
      ],
      "text/plain": [
       "        id gender  age              topic      sign          date  \\\n",
       "0  2059027   male   15            Student       Leo   14,May,2004   \n",
       "1  2059027   male   15            Student       Leo   13,May,2004   \n",
       "2  2059027   male   15            Student       Leo   12,May,2004   \n",
       "3  2059027   male   15            Student       Leo   12,May,2004   \n",
       "4  3581210   male   33  InvestmentBanking  Aquarius  11,June,2004   \n",
       "\n",
       "                                                text  \n",
       "0             Info has been found (+/- 100 pages,...  \n",
       "1             These are the team members:   Drewe...  \n",
       "2             In het kader van kernfusie op aarde...  \n",
       "3                   testing!!!  testing!!!            \n",
       "4               Thanks to Yahoo!'s Toolbar I can ...  "
      ]
     },
     "execution_count": 6,
     "metadata": {},
     "output_type": "execute_result"
    }
   ],
   "source": [
    "df.head()"
   ]
  },
  {
   "cell_type": "code",
   "execution_count": 25,
   "id": "9c306ac4",
   "metadata": {},
   "outputs": [
    {
     "data": {
      "text/plain": [
       "579091"
      ]
     },
     "execution_count": 25,
     "metadata": {},
     "output_type": "execute_result"
    }
   ],
   "source": [
    "len(df_train.text)"
   ]
  },
  {
   "cell_type": "code",
   "execution_count": 26,
   "id": "f704dbbf",
   "metadata": {},
   "outputs": [],
   "source": [
    "model = CountVectorizer(tokenizer=token, ngram_range = (2, 2))"
   ]
  },
  {
   "cell_type": "code",
   "execution_count": 27,
   "id": "e57d1cfb",
   "metadata": {},
   "outputs": [],
   "source": [
    "X_train_ngram = model.fit_transform(df_train.text[:50000])"
   ]
  },
  {
   "cell_type": "code",
   "execution_count": 29,
   "id": "4c4fc969",
   "metadata": {},
   "outputs": [],
   "source": [
    "X_test_ngram = model.transform(df_test.text)\n",
    "X_train_ngram_tf = tf_transformer.fit_transform(X_train_ngram)"
   ]
  },
  {
   "cell_type": "code",
   "execution_count": 30,
   "id": "153d4b3a",
   "metadata": {},
   "outputs": [],
   "source": [
    "X_test_ngram_tf = tf_transformer.transform(X_test_ngram)"
   ]
  },
  {
   "cell_type": "code",
   "execution_count": 33,
   "id": "9a132acc",
   "metadata": {},
   "outputs": [
    {
     "name": "stderr",
     "output_type": "stream",
     "text": [
      "c:\\users\\dan hagen\\appdata\\local\\programs\\python\\python39\\lib\\site-packages\\sklearn\\linear_model\\_logistic.py:763: ConvergenceWarning: lbfgs failed to converge (status=1):\n",
      "STOP: TOTAL NO. of ITERATIONS REACHED LIMIT.\n",
      "\n",
      "Increase the number of iterations (max_iter) or scale the data as shown in:\n",
      "    https://scikit-learn.org/stable/modules/preprocessing.html\n",
      "Please also refer to the documentation for alternative solver options:\n",
      "    https://scikit-learn.org/stable/modules/linear_model.html#logistic-regression\n",
      "  n_iter_i = _check_optimize_result(\n"
     ]
    },
    {
     "data": {
      "text/plain": [
       "LogisticRegression()"
      ]
     },
     "execution_count": 33,
     "metadata": {},
     "output_type": "execute_result"
    }
   ],
   "source": [
    "logreg = LogisticRegression()\n",
    "logreg.fit(X_train_ngram , y_train_tf[:50000])"
   ]
  },
  {
   "cell_type": "code",
   "execution_count": 36,
   "id": "d9185dd3",
   "metadata": {},
   "outputs": [],
   "source": [
    "y_hat_test = logreg.predict(X_test_ngram_tf)  "
   ]
  },
  {
   "cell_type": "code",
   "execution_count": 37,
   "id": "5a51af80",
   "metadata": {},
   "outputs": [
    {
     "name": "stdout",
     "output_type": "stream",
     "text": [
      "0.17985576311489046\n",
      "[1.         0.92045455 0.65       0.25289682 0.21563935 0.14906868\n",
      " 0.14837953 0.29525653 0.41333333 0.36065574 0.         1.\n",
      " 1.         1.         0.         1.         0.         0.\n",
      " 0.         0.         0.         0.         0.         0.\n",
      " 0.         0.        ]\n"
     ]
    },
    {
     "name": "stderr",
     "output_type": "stream",
     "text": [
      "c:\\users\\dan hagen\\appdata\\local\\programs\\python\\python39\\lib\\site-packages\\sklearn\\metrics\\_classification.py:1248: UndefinedMetricWarning: Precision is ill-defined and being set to 0.0 in labels with no predicted samples. Use `zero_division` parameter to control this behavior.\n",
      "  _warn_prf(average, modifier, msg_start, len(result))\n"
     ]
    }
   ],
   "source": [
    "print(accuracy_score(y_test_tf, y_hat_test))\n",
    "print(precision_score(y_test_tf, y_hat_test,average=None))"
   ]
  },
  {
   "cell_type": "code",
   "execution_count": 19,
   "id": "5d35995e",
   "metadata": {},
   "outputs": [],
   "source": []
  },
  {
   "cell_type": "code",
   "execution_count": null,
   "id": "cb9109ee",
   "metadata": {},
   "outputs": [],
   "source": []
  }
 ],
 "metadata": {
  "kernelspec": {
   "display_name": "Python 3 (ipykernel)",
   "language": "python",
   "name": "python3"
  },
  "language_info": {
   "codemirror_mode": {
    "name": "ipython",
    "version": 3
   },
   "file_extension": ".py",
   "mimetype": "text/x-python",
   "name": "python",
   "nbconvert_exporter": "python",
   "pygments_lexer": "ipython3",
   "version": "3.9.5"
  }
 },
 "nbformat": 4,
 "nbformat_minor": 5
}
