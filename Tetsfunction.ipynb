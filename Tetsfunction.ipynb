{
 "cells": [
  {
   "cell_type": "code",
   "execution_count": 43,
   "id": "85a14836",
   "metadata": {},
   "outputs": [],
   "source": [
    "import pandas as pd\n",
    "import nltk\n",
    "from nltk.tokenize import TweetTokenizer\n",
    "from sklearn.model_selection import train_test_split\n",
    "from sklearn.feature_extraction.text import TfidfTransformer\n",
    "from sklearn.linear_model import LogisticRegression\n",
    "from sklearn.feature_extraction.text import CountVectorizer\n",
    "from sklearn.metrics import accuracy_score\n",
    "from sklearn.metrics import precision_score\n",
    "import matplotlib.pyplot as plt\n",
    "from sklearn.metrics import confusion_matrix"
   ]
  },
  {
   "cell_type": "code",
   "execution_count": 9,
   "id": "f5a4b868",
   "metadata": {},
   "outputs": [],
   "source": [
    "df = pd.read_csv(\"blogtext.csv\" , encoding_errors=\"ignore\")"
   ]
  },
  {
   "cell_type": "code",
   "execution_count": 10,
   "id": "1fd8163f",
   "metadata": {},
   "outputs": [
    {
     "data": {
      "text/html": [
       "<div>\n",
       "<style scoped>\n",
       "    .dataframe tbody tr th:only-of-type {\n",
       "        vertical-align: middle;\n",
       "    }\n",
       "\n",
       "    .dataframe tbody tr th {\n",
       "        vertical-align: top;\n",
       "    }\n",
       "\n",
       "    .dataframe thead th {\n",
       "        text-align: right;\n",
       "    }\n",
       "</style>\n",
       "<table border=\"1\" class=\"dataframe\">\n",
       "  <thead>\n",
       "    <tr style=\"text-align: right;\">\n",
       "      <th></th>\n",
       "      <th>id</th>\n",
       "      <th>gender</th>\n",
       "      <th>age</th>\n",
       "      <th>topic</th>\n",
       "      <th>sign</th>\n",
       "      <th>date</th>\n",
       "      <th>text</th>\n",
       "    </tr>\n",
       "  </thead>\n",
       "  <tbody>\n",
       "    <tr>\n",
       "      <th>0</th>\n",
       "      <td>2059027</td>\n",
       "      <td>male</td>\n",
       "      <td>15</td>\n",
       "      <td>Student</td>\n",
       "      <td>Leo</td>\n",
       "      <td>14,May,2004</td>\n",
       "      <td>Info has been found (+/- 100 pages,...</td>\n",
       "    </tr>\n",
       "    <tr>\n",
       "      <th>1</th>\n",
       "      <td>2059027</td>\n",
       "      <td>male</td>\n",
       "      <td>15</td>\n",
       "      <td>Student</td>\n",
       "      <td>Leo</td>\n",
       "      <td>13,May,2004</td>\n",
       "      <td>These are the team members:   Drewe...</td>\n",
       "    </tr>\n",
       "    <tr>\n",
       "      <th>2</th>\n",
       "      <td>2059027</td>\n",
       "      <td>male</td>\n",
       "      <td>15</td>\n",
       "      <td>Student</td>\n",
       "      <td>Leo</td>\n",
       "      <td>12,May,2004</td>\n",
       "      <td>In het kader van kernfusie op aarde...</td>\n",
       "    </tr>\n",
       "    <tr>\n",
       "      <th>3</th>\n",
       "      <td>2059027</td>\n",
       "      <td>male</td>\n",
       "      <td>15</td>\n",
       "      <td>Student</td>\n",
       "      <td>Leo</td>\n",
       "      <td>12,May,2004</td>\n",
       "      <td>testing!!!  testing!!!</td>\n",
       "    </tr>\n",
       "    <tr>\n",
       "      <th>4</th>\n",
       "      <td>3581210</td>\n",
       "      <td>male</td>\n",
       "      <td>33</td>\n",
       "      <td>InvestmentBanking</td>\n",
       "      <td>Aquarius</td>\n",
       "      <td>11,June,2004</td>\n",
       "      <td>Thanks to Yahoo!'s Toolbar I can ...</td>\n",
       "    </tr>\n",
       "  </tbody>\n",
       "</table>\n",
       "</div>"
      ],
      "text/plain": [
       "        id gender  age              topic      sign          date  \\\n",
       "0  2059027   male   15            Student       Leo   14,May,2004   \n",
       "1  2059027   male   15            Student       Leo   13,May,2004   \n",
       "2  2059027   male   15            Student       Leo   12,May,2004   \n",
       "3  2059027   male   15            Student       Leo   12,May,2004   \n",
       "4  3581210   male   33  InvestmentBanking  Aquarius  11,June,2004   \n",
       "\n",
       "                                                text  \n",
       "0             Info has been found (+/- 100 pages,...  \n",
       "1             These are the team members:   Drewe...  \n",
       "2             In het kader van kernfusie op aarde...  \n",
       "3                   testing!!!  testing!!!            \n",
       "4               Thanks to Yahoo!'s Toolbar I can ...  "
      ]
     },
     "execution_count": 10,
     "metadata": {},
     "output_type": "execute_result"
    }
   ],
   "source": [
    "df.head()"
   ]
  },
  {
   "cell_type": "code",
   "execution_count": 11,
   "id": "b11ad868",
   "metadata": {},
   "outputs": [],
   "source": [
    "df_train , df_test =  train_test_split(df , test_size=0.15)"
   ]
  },
  {
   "cell_type": "code",
   "execution_count": 12,
   "id": "fe2cb73b",
   "metadata": {},
   "outputs": [],
   "source": [
    "tk = TweetTokenizer()\n",
    "\n",
    "stpW = [ 'stop', 'the', 'to', 'and', 'a', 'in', 'it', 'is', 'I', \n",
    "        'that', 'had', 'on', 'for', 'were', 'was' , \"It\" , \"The\",\"A\", \"In\" ,\"And\"]   \n",
    "def token(text): ### tokenizes but also removes stop words    \n",
    "    text = tk.tokenize(text)\n",
    "    s= 0\n",
    "    #print(text)\n",
    "    while s<len(text):\n",
    "        if text[s] in stpW:\n",
    "            #print(text[s])\n",
    "            text.pop(s)\n",
    "            #print(text[s])\n",
    "        else:\n",
    "            s += 1\n",
    "    return text"
   ]
  },
  {
   "cell_type": "code",
   "execution_count": 13,
   "id": "956816c9",
   "metadata": {},
   "outputs": [],
   "source": [
    "count_vect = CountVectorizer(tokenizer=token)\n",
    "tf_transformer = TfidfTransformer(use_idf=False)   #tfdi transformer we could try to run it with out transformer"
   ]
  },
  {
   "cell_type": "code",
   "execution_count": 14,
   "id": "e6d082f5",
   "metadata": {},
   "outputs": [],
   "source": [
    "X_train = count_vect.fit_transform(df_train.text)"
   ]
  },
  {
   "cell_type": "code",
   "execution_count": 15,
   "id": "5aa42bbd",
   "metadata": {},
   "outputs": [],
   "source": [
    "X_test = count_vect.transform(df_test.text)\n",
    "X_train_tf = tf_transformer.fit_transform(X_train)"
   ]
  },
  {
   "cell_type": "code",
   "execution_count": 16,
   "id": "9864dea1",
   "metadata": {},
   "outputs": [],
   "source": [
    "y_train_tf = df_train.age\n",
    "y_test_tf = df_test.age"
   ]
  },
  {
   "cell_type": "code",
   "execution_count": 17,
   "id": "1a2146d7",
   "metadata": {},
   "outputs": [],
   "source": [
    "X_test_tf = tf_transformer.transform(X_test)"
   ]
  },
  {
   "cell_type": "code",
   "execution_count": 18,
   "id": "c36a12bb",
   "metadata": {},
   "outputs": [
    {
     "name": "stderr",
     "output_type": "stream",
     "text": [
      "c:\\users\\dan hagen\\appdata\\local\\programs\\python\\python39\\lib\\site-packages\\sklearn\\linear_model\\_logistic.py:763: ConvergenceWarning: lbfgs failed to converge (status=1):\n",
      "STOP: TOTAL NO. of ITERATIONS REACHED LIMIT.\n",
      "\n",
      "Increase the number of iterations (max_iter) or scale the data as shown in:\n",
      "    https://scikit-learn.org/stable/modules/preprocessing.html\n",
      "Please also refer to the documentation for alternative solver options:\n",
      "    https://scikit-learn.org/stable/modules/linear_model.html#logistic-regression\n",
      "  n_iter_i = _check_optimize_result(\n"
     ]
    },
    {
     "data": {
      "text/plain": [
       "LogisticRegression()"
      ]
     },
     "execution_count": 18,
     "metadata": {},
     "output_type": "execute_result"
    }
   ],
   "source": [
    "logreg = LogisticRegression()\n",
    "logreg.fit(X_train_tf , y_train_tf)"
   ]
  },
  {
   "cell_type": "code",
   "execution_count": 19,
   "id": "d8c9a777",
   "metadata": {},
   "outputs": [
    {
     "name": "stdout",
     "output_type": "stream",
     "text": [
      "0.21907567054494925\n"
     ]
    }
   ],
   "source": [
    "y_hat_test = logreg.predict(X_test_tf)   #### array of predcted ages \n",
    "print(accuracy_score(y_test_tf, y_hat_test))"
   ]
  },
  {
   "cell_type": "code",
   "execution_count": 20,
   "id": "033458e9",
   "metadata": {},
   "outputs": [
    {
     "data": {
      "text/plain": [
       "array([24, 23, 24, 23, 16, 25, 27, 16, 17, 17, 34, 17, 24, 16, 17, 23, 17,\n",
       "       16, 23, 24, 15, 23, 15, 15, 25, 27, 24, 24, 25, 14, 17, 34, 24, 25,\n",
       "       24, 16, 24, 23, 16, 16, 24, 25, 23, 24, 25, 24, 27, 24, 27, 17, 24,\n",
       "       17, 26, 27, 24, 23, 15, 24, 15, 13, 34, 24, 25, 23, 26, 17, 17, 24,\n",
       "       24, 16, 17, 24, 17, 24, 26, 14, 24, 17, 16, 17, 27, 26, 17, 17, 26,\n",
       "       24, 15, 25, 23, 17, 23, 16, 25, 24, 23, 23, 17, 24, 26, 23],\n",
       "      dtype=int64)"
      ]
     },
     "execution_count": 20,
     "metadata": {},
     "output_type": "execute_result"
    }
   ],
   "source": [
    "y_hat_test[:100]   "
   ]
  },
  {
   "cell_type": "code",
   "execution_count": 21,
   "id": "5aae6f5f",
   "metadata": {},
   "outputs": [
    {
     "data": {
      "text/plain": [
       "array([24, 27, 27, 25, 17, 24, 27, 16, 17, 17, 23, 27, 23, 26, 16, 25, 16,\n",
       "       24, 25, 23, 16, 26, 23, 25, 24, 36, 27, 26, 26, 15, 39, 37, 26, 24,\n",
       "       23, 26, 23, 26, 24, 17, 24, 43, 23, 46, 13, 17, 16, 26, 27, 13, 25,\n",
       "       14, 26, 35, 36, 27, 23, 25, 15, 43, 23, 24, 17, 26, 47, 23, 23, 41,\n",
       "       33, 16, 14, 25, 17, 36, 34, 34, 25, 23, 15, 14, 27, 26, 17, 24, 33,\n",
       "       23, 25, 26, 26, 17, 25, 14, 24, 23, 33, 26, 39, 24, 25, 15],\n",
       "      dtype=int64)"
      ]
     },
     "execution_count": 21,
     "metadata": {},
     "output_type": "execute_result"
    }
   ],
   "source": [
    "y_test_tf.values[:100] ###array of acctual ages "
   ]
  },
  {
   "cell_type": "code",
   "execution_count": 22,
   "id": "2e51292f",
   "metadata": {},
   "outputs": [],
   "source": [
    "l = y_hat_test-y_test_tf.values   ### creates a list of diffrence between predicted ages and actual ages\n",
    "\n",
    "g= []    #### all negativ values are made positiv so just distanec between pred and actual value\n",
    "for i in l:\n",
    "    if i< 0:\n",
    "        g.append(-i)\n",
    "    else:\n",
    "        g.append(i)\n"
   ]
  },
  {
   "cell_type": "code",
   "execution_count": 23,
   "id": "8a7edcac",
   "metadata": {},
   "outputs": [],
   "source": [
    "h = 0   #####summs all distances to get avarege distance \n",
    "for i in  g:\n",
    "    h= h + i"
   ]
  },
  {
   "cell_type": "code",
   "execution_count": 24,
   "id": "a55594f6",
   "metadata": {},
   "outputs": [
    {
     "data": {
      "text/plain": [
       "4.828138913624221"
      ]
     },
     "execution_count": 24,
     "metadata": {},
     "output_type": "execute_result"
    }
   ],
   "source": [
    "h/len(g) ##### avarge mistake/difference in age (+-) "
   ]
  },
  {
   "cell_type": "markdown",
   "id": "0b6565e0",
   "metadata": {},
   "source": [
    "The mean age diffrance is already quite good. But it does have strong outliners(up to 35 years). So maybe we could try diffrente training function than log.reg. or split the age to age groupes "
   ]
  },
  {
   "cell_type": "code",
   "execution_count": 25,
   "id": "4e1a9cfe",
   "metadata": {},
   "outputs": [
    {
     "data": {
      "text/plain": [
       "35"
      ]
     },
     "execution_count": 25,
     "metadata": {},
     "output_type": "execute_result"
    }
   ],
   "source": [
    "max(g)  ### higest mistake/distance"
   ]
  },
  {
   "cell_type": "code",
   "execution_count": 41,
   "id": "b1eea230",
   "metadata": {},
   "outputs": [
    {
     "data": {
      "image/png": "[encoded data removed]",
      "text/plain": [
       "<Figure size 432x288 with 1 Axes>"
      ]
     },
     "metadata": {
      "needs_background": "light"
     },
     "output_type": "display_data"
    }
   ],
   "source": [
    "i = 0\n",
    "x=[]\n",
    "while i <= max(g):\n",
    "    x.append(g.count(i))\n",
    "    i= i+1\n",
    "y =list(range(36))\n",
    "plt.bar(y,x)\n",
    "plt.title('Predicted vs actual age diferences')\n",
    "plt.xlabel('age diffrencee')\n",
    "plt.ylabel('amount')\n",
    "plt.show()"
   ]
  },
  {
   "cell_type": "code",
   "execution_count": 44,
   "id": "2a16191e",
   "metadata": {},
   "outputs": [],
   "source": [
    "\n",
    "### Could u add a confusion matrix so we can see what ages it struggles with\n",
    "\n",
    "### something like this \n",
    "#https://www.stackvidhya.com/plot-confusion-matrix-in-python-and-why/#:~:text=You%20can%20create%20the%20confusion,False%20Negatives%2C%20and%20True%20negatives."
   ]
  },
  {
   "cell_type": "markdown",
   "id": "05bc76ff",
   "metadata": {},
   "source": [
    "# Predicting signs as a joke  "
   ]
  },
  {
   "cell_type": "code",
   "execution_count": null,
   "id": "d1d4f955",
   "metadata": {},
   "outputs": [],
   "source": [
    "stars= [\"Aries\", \"Taurus\", \"Gemini\", \"Cancer\", \"Leo\", \"Virgo\", \"Libra\", \n",
    "        \"Scorpio\", \"Sagittarius\", \"Capricorn\", \"Aquarius\", \"Pisces\"]\n",
    "\n",
    "\n",
    "\n",
    "def star(lis):\n",
    "    k = []\n",
    "    for i in lis:\n",
    "        k.append(star.index(i))\n",
    "    return k\n"
   ]
  },
  {
   "cell_type": "code",
   "execution_count": null,
   "id": "cbc1dc76",
   "metadata": {},
   "outputs": [],
   "source": [
    "star(df_train.sign)"
   ]
  },
  {
   "cell_type": "code",
   "execution_count": null,
   "id": "e29dea6c",
   "metadata": {},
   "outputs": [],
   "source": [
    "y_train_start = star(df_train.sign)\n",
    "\n",
    "y_test_star = star(df_test.sign)"
   ]
  },
  {
   "cell_type": "code",
   "execution_count": null,
   "id": "7d1d4d85",
   "metadata": {},
   "outputs": [],
   "source": [
    "logreg = LogisticRegression()\n",
    "logreg.fit(X_train_tf , y_train_star)"
   ]
  },
  {
   "cell_type": "code",
   "execution_count": null,
   "id": "3251af1b",
   "metadata": {},
   "outputs": [],
   "source": [
    "y_hat_test = logreg.predict(X_test_tf)   #### array of predcted ages \n",
    "print(accuracy_score(y_test_star, y_hat_test))"
   ]
  },
  {
   "cell_type": "code",
   "execution_count": null,
   "id": "2e5fdf8d",
   "metadata": {},
   "outputs": [],
   "source": []
  }
 ],
 "metadata": {
  "kernelspec": {
   "display_name": "Python 3 (ipykernel)",
   "language": "python",
   "name": "python3"
  },
  "language_info": {
   "codemirror_mode": {
    "name": "ipython",
    "version": 3
   },
   "file_extension": ".py",
   "mimetype": "text/x-python",
   "name": "python",
   "nbconvert_exporter": "python",
   "pygments_lexer": "ipython3",
   "version": "3.9.5"
  }
 },
 "nbformat": 4,
 "nbformat_minor": 5
}
