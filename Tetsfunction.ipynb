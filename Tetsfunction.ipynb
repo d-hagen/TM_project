{
 "cells": [
  {
   "cell_type": "code",
   "execution_count": 1,
   "id": "85a14836",
   "metadata": {},
   "outputs": [],
   "source": [
    "from sklearn.metrics import plot_confusion_matrix\n",
    "import pandas as pd\n",
    "import nltk\n",
    "import numpy as np\n",
    "import seaborn as sns\n",
    "from nltk.tokenize import TweetTokenizer\n",
    "from sklearn.model_selection import train_test_split\n",
    "from sklearn.feature_extraction.text import TfidfTransformer\n",
    "from sklearn.linear_model import LogisticRegression\n",
    "from sklearn.feature_extraction.text import CountVectorizer\n",
    "from sklearn.metrics import accuracy_score\n",
    "from sklearn.metrics import precision_score\n",
    "import matplotlib.pyplot as plt\n",
    "from sklearn.metrics import confusion_matrix\n",
    "from sklearn.utils.multiclass import unique_labels"
   ]
  },
  {
   "cell_type": "code",
   "execution_count": 3,
   "id": "f5a4b868",
   "metadata": {},
   "outputs": [],
   "source": [
    "df = pd.read_csv(\"blogtext.csv\")"
   ]
  },
  {
   "cell_type": "code",
   "execution_count": 4,
   "id": "1fd8163f",
   "metadata": {},
   "outputs": [
    {
     "data": {
      "text/html": [
       "<div>\n",
       "<style scoped>\n",
       "    .dataframe tbody tr th:only-of-type {\n",
       "        vertical-align: middle;\n",
       "    }\n",
       "\n",
       "    .dataframe tbody tr th {\n",
       "        vertical-align: top;\n",
       "    }\n",
       "\n",
       "    .dataframe thead th {\n",
       "        text-align: right;\n",
       "    }\n",
       "</style>\n",
       "<table border=\"1\" class=\"dataframe\">\n",
       "  <thead>\n",
       "    <tr style=\"text-align: right;\">\n",
       "      <th></th>\n",
       "      <th>id</th>\n",
       "      <th>gender</th>\n",
       "      <th>age</th>\n",
       "      <th>topic</th>\n",
       "      <th>sign</th>\n",
       "      <th>date</th>\n",
       "      <th>text</th>\n",
       "    </tr>\n",
       "  </thead>\n",
       "  <tbody>\n",
       "    <tr>\n",
       "      <th>0</th>\n",
       "      <td>2059027</td>\n",
       "      <td>male</td>\n",
       "      <td>15</td>\n",
       "      <td>Student</td>\n",
       "      <td>Leo</td>\n",
       "      <td>14,May,2004</td>\n",
       "      <td>Info has been found (+/- 100 pages,...</td>\n",
       "    </tr>\n",
       "    <tr>\n",
       "      <th>1</th>\n",
       "      <td>2059027</td>\n",
       "      <td>male</td>\n",
       "      <td>15</td>\n",
       "      <td>Student</td>\n",
       "      <td>Leo</td>\n",
       "      <td>13,May,2004</td>\n",
       "      <td>These are the team members:   Drewe...</td>\n",
       "    </tr>\n",
       "    <tr>\n",
       "      <th>2</th>\n",
       "      <td>2059027</td>\n",
       "      <td>male</td>\n",
       "      <td>15</td>\n",
       "      <td>Student</td>\n",
       "      <td>Leo</td>\n",
       "      <td>12,May,2004</td>\n",
       "      <td>In het kader van kernfusie op aarde...</td>\n",
       "    </tr>\n",
       "    <tr>\n",
       "      <th>3</th>\n",
       "      <td>2059027</td>\n",
       "      <td>male</td>\n",
       "      <td>15</td>\n",
       "      <td>Student</td>\n",
       "      <td>Leo</td>\n",
       "      <td>12,May,2004</td>\n",
       "      <td>testing!!!  testing!!!</td>\n",
       "    </tr>\n",
       "    <tr>\n",
       "      <th>4</th>\n",
       "      <td>3581210</td>\n",
       "      <td>male</td>\n",
       "      <td>33</td>\n",
       "      <td>InvestmentBanking</td>\n",
       "      <td>Aquarius</td>\n",
       "      <td>11,June,2004</td>\n",
       "      <td>Thanks to Yahoo!'s Toolbar I can ...</td>\n",
       "    </tr>\n",
       "  </tbody>\n",
       "</table>\n",
       "</div>"
      ],
      "text/plain": [
       "        id gender  age              topic      sign          date  \\\n",
       "0  2059027   male   15            Student       Leo   14,May,2004   \n",
       "1  2059027   male   15            Student       Leo   13,May,2004   \n",
       "2  2059027   male   15            Student       Leo   12,May,2004   \n",
       "3  2059027   male   15            Student       Leo   12,May,2004   \n",
       "4  3581210   male   33  InvestmentBanking  Aquarius  11,June,2004   \n",
       "\n",
       "                                                text  \n",
       "0             Info has been found (+/- 100 pages,...  \n",
       "1             These are the team members:   Drewe...  \n",
       "2             In het kader van kernfusie op aarde...  \n",
       "3                   testing!!!  testing!!!            \n",
       "4               Thanks to Yahoo!'s Toolbar I can ...  "
      ]
     },
     "execution_count": 4,
     "metadata": {},
     "output_type": "execute_result"
    }
   ],
   "source": [
    "df.head()"
   ]
  },
  {
   "cell_type": "code",
   "execution_count": 5,
   "id": "b11ad868",
   "metadata": {},
   "outputs": [],
   "source": [
    "df_train , df_test =  train_test_split(df , test_size=0.15)"
   ]
  },
  {
   "cell_type": "code",
   "execution_count": 6,
   "id": "fe2cb73b",
   "metadata": {},
   "outputs": [],
   "source": [
    "tk = TweetTokenizer()\n",
    "\n",
    "stpW = [ 'stop', 'the', 'to', 'and', 'a', 'in', 'it', 'is', 'I', \n",
    "        'that', 'had', 'on', 'for', 'were', 'was' , \"It\" , \"The\",\"A\", \"In\" ,\"And\"]   \n",
    "def token(text): ### tokenizes but also removes stop words    \n",
    "    text = tk.tokenize(text)\n",
    "    s= 0\n",
    "    #print(text)\n",
    "    while s<len(text):\n",
    "        if text[s] in stpW:\n",
    "            #print(text[s])\n",
    "            text.pop(s)\n",
    "            #print(text[s])\n",
    "        else:\n",
    "            s += 1\n",
    "    return text"
   ]
  },
  {
   "cell_type": "code",
   "execution_count": 26,
   "id": "956816c9",
   "metadata": {},
   "outputs": [],
   "source": [
    "count_vect = CountVectorizer(tokenizer=token)      ##\n",
    "tf_transformer = TfidfTransformer(use_idf=False)   #try running with tfd set to true"
   ]
  },
  {
   "cell_type": "code",
   "execution_count": 27,
   "id": "e6d082f5",
   "metadata": {},
   "outputs": [],
   "source": [
    "X_train = count_vect.fit_transform(df_train.text)"
   ]
  },
  {
   "cell_type": "code",
   "execution_count": 28,
   "id": "5aa42bbd",
   "metadata": {},
   "outputs": [],
   "source": [
    "X_test = count_vect.transform(df_test.text)\n",
    "X_train_tf = tf_transformer.fit_transform(X_train)"
   ]
  },
  {
   "cell_type": "code",
   "execution_count": 8,
   "id": "9864dea1",
   "metadata": {},
   "outputs": [],
   "source": [
    "y_train_tf = df_train.age\n",
    "y_test_tf = df_test.age"
   ]
  },
  {
   "cell_type": "code",
   "execution_count": 29,
   "id": "1a2146d7",
   "metadata": {},
   "outputs": [],
   "source": [
    "X_test_tf = tf_transformer.transform(X_test)"
   ]
  },
  {
   "cell_type": "code",
   "execution_count": 20,
   "id": "c36a12bb",
   "metadata": {},
   "outputs": [
    {
     "name": "stderr",
     "output_type": "stream",
     "text": [
      "C:\\Users\\lucaw\\anaconda3\\lib\\site-packages\\sklearn\\linear_model\\_logistic.py:763: ConvergenceWarning: lbfgs failed to converge (status=1):\n",
      "STOP: TOTAL NO. of ITERATIONS REACHED LIMIT.\n",
      "\n",
      "Increase the number of iterations (max_iter) or scale the data as shown in:\n",
      "    https://scikit-learn.org/stable/modules/preprocessing.html\n",
      "Please also refer to the documentation for alternative solver options:\n",
      "    https://scikit-learn.org/stable/modules/linear_model.html#logistic-regression\n",
      "  n_iter_i = _check_optimize_result(\n"
     ]
    },
    {
     "data": {
      "text/plain": [
       "LogisticRegression()"
      ]
     },
     "execution_count": 20,
     "metadata": {},
     "output_type": "execute_result"
    }
   ],
   "source": [
    "logreg = LogisticRegression()\n",
    "logreg.fit(X_train_tf , y_train_tf)"
   ]
  },
  {
   "cell_type": "code",
   "execution_count": 24,
   "id": "e1a217da",
   "metadata": {},
   "outputs": [],
   "source": [
    "#svc = SVC()\n",
    "#svc.fit(X_train_tf , y_train_tf)"
   ]
  },
  {
   "cell_type": "code",
   "execution_count": 26,
   "id": "2dd53f44",
   "metadata": {},
   "outputs": [],
   "source": [
    "#y_svc_test = svc.predict(X_test_tf)\n",
    "#print(accuracy_score(y_test_tf, y_svc_test))\n",
    "#print(precision_score(y_test_tf, y_svc_test))"
   ]
  },
  {
   "cell_type": "code",
   "execution_count": 27,
   "id": "d8c9a777",
   "metadata": {},
   "outputs": [],
   "source": [
    "y_hat_test = logreg.predict(X_test_tf)   #### array of predcted ages \n"
   ]
  },
  {
   "cell_type": "markdown",
   "id": "8925fdaf",
   "metadata": {},
   "source": [
    "pls run grid search/randomized search for the svc model (will take a while run over night )"
   ]
  },
  {
   "cell_type": "markdown",
   "id": "21e5f629",
   "metadata": {},
   "source": [
    "## Evaluation below"
   ]
  },
  {
   "cell_type": "code",
   "execution_count": 36,
   "id": "a93accf0",
   "metadata": {},
   "outputs": [
    {
     "name": "stdout",
     "output_type": "stream",
     "text": [
      "0.22145352421398726\n",
      "[0.18509615 0.28445748 0.25271841 0.25963474 0.2635514  0.193308\n",
      " 0.18570611 0.18501398 0.17789072 0.17184402 0.15873016 0.25477265\n",
      " 0.36451613 0.34408602 0.59668508 0.40789474 0.         0.9119171\n",
      " 0.         0.63636364 0.         0.         0.5        0.4\n",
      " 0.84210526 0.4251497 ]\n"
     ]
    },
    {
     "name": "stderr",
     "output_type": "stream",
     "text": [
      "c:\\users\\dan hagen\\appdata\\local\\programs\\python\\python39\\lib\\site-packages\\sklearn\\metrics\\_classification.py:1248: UndefinedMetricWarning: Precision is ill-defined and being set to 0.0 in labels with no predicted samples. Use `zero_division` parameter to control this behavior.\n",
      "  _warn_prf(average, modifier, msg_start, len(result))\n"
     ]
    }
   ],
   "source": [
    "print(accuracy_score(y_test_tf, y_hat_test))\n",
    "print(precision_score(y_test_tf, y_hat_test,average=None))"
   ]
  },
  {
   "cell_type": "code",
   "execution_count": 68,
   "id": "1f3411ea",
   "metadata": {},
   "outputs": [
    {
     "data": {
      "text/plain": [
       "array([13, 14, 15, 16, 17, 23, 24, 25, 26, 27, 33, 34, 35, 36, 37, 38, 39,\n",
       "       40, 41, 42, 43, 44, 45, 46, 47, 48], dtype=int64)"
      ]
     },
     "execution_count": 68,
     "metadata": {},
     "output_type": "execute_result"
    }
   ],
   "source": [
    "logreg.classes_"
   ]
  },
  {
   "cell_type": "code",
   "execution_count": 36,
   "id": "cb2a00d9",
   "metadata": {},
   "outputs": [],
   "source": [
    "\n",
    "\n",
    "def count(k, lis):  \n",
    "    c = 0\n",
    "    for i in lis: ### change  to what list \n",
    "        if i == k:\n",
    "            c = c+1\n",
    "    return c\n",
    "            \n",
    "            "
   ]
  },
  {
   "cell_type": "code",
   "execution_count": 37,
   "id": "b85f90b1",
   "metadata": {},
   "outputs": [],
   "source": [
    "counts = []     ##### counts how often age group is represnted in list\n",
    "\n",
    "for i in logreg.classes_:\n",
    "    counts.append(count(i, y_test_tf))     \n",
    "    "
   ]
  },
  {
   "cell_type": "code",
   "execution_count": 13,
   "id": "033458e9",
   "metadata": {},
   "outputs": [
    {
     "data": {
      "text/plain": [
       "array([27, 26, 25, 17, 17, 17, 17, 23, 14, 17, 16, 24, 26, 25, 27, 24, 17,\n",
       "       14, 17, 23, 16, 27, 17, 17, 24, 23, 24, 23, 23, 26, 24, 26, 17, 24,\n",
       "       27, 24, 17, 14, 24, 24, 24, 23, 24, 16, 17, 16, 17, 26, 24, 24, 25,\n",
       "       34, 16, 23, 26, 24, 24, 16, 17, 16, 17, 26, 23, 26, 24, 27, 26, 16,\n",
       "       17, 24, 24, 25, 27, 14, 17, 27, 16, 14, 34, 17, 24, 17, 27, 16, 23,\n",
       "       15, 24, 14, 23, 26, 25, 16, 24, 25, 25, 24, 24, 23, 25, 23],\n",
       "      dtype=int64)"
      ]
     },
     "execution_count": 13,
     "metadata": {},
     "output_type": "execute_result"
    }
   ],
   "source": [
    "y_hat_test[:100]   "
   ]
  },
  {
   "cell_type": "code",
   "execution_count": 14,
   "id": "5aae6f5f",
   "metadata": {},
   "outputs": [
    {
     "data": {
      "text/plain": [
       "array([15, 24, 36, 17, 15, 23, 17, 14, 13, 25, 15, 42, 35, 23, 23, 25, 24,\n",
       "       15, 17, 25, 17, 36, 16, 25, 33, 23, 34, 16, 14, 23, 42, 26, 16, 17,\n",
       "       26, 26, 16, 17, 15, 25, 24, 24, 26, 25, 17, 16, 15, 45, 16, 24, 34,\n",
       "       39, 13, 27, 36, 17, 41, 24, 15, 17, 17, 16, 17, 45, 26, 27, 25, 26,\n",
       "       23, 24, 48, 44, 24, 16, 23, 25, 17, 16, 40, 16, 17, 27, 44, 17, 17,\n",
       "       25, 25, 24, 23, 40, 23, 24, 25, 25, 14, 24, 24, 17, 23, 33],\n",
       "      dtype=int64)"
      ]
     },
     "execution_count": 14,
     "metadata": {},
     "output_type": "execute_result"
    }
   ],
   "source": [
    "y_test_tf.values[:100] ###array of acctual ages "
   ]
  },
  {
   "cell_type": "code",
   "execution_count": 15,
   "id": "2e51292f",
   "metadata": {},
   "outputs": [],
   "source": [
    "l = y_hat_test-y_test_tf.values   ### creates a list of diffrence between predicted ages and actual ages\n",
    "\n",
    "g= []    #### all negativ values are made positiv so just distanec between pred and actual value\n",
    "for i in l:\n",
    "    if i< 0:\n",
    "        g.append(-i)\n",
    "    else:\n",
    "        g.append(i)\n"
   ]
  },
  {
   "cell_type": "code",
   "execution_count": 16,
   "id": "8a7edcac",
   "metadata": {},
   "outputs": [],
   "source": [
    "h = 0   #####summs all distances to get avarege distance \n",
    "for i in  g:\n",
    "    h= h + i"
   ]
  },
  {
   "cell_type": "code",
   "execution_count": 17,
   "id": "a55594f6",
   "metadata": {},
   "outputs": [
    {
     "data": {
      "text/plain": [
       "4.863356589981701"
      ]
     },
     "execution_count": 17,
     "metadata": {},
     "output_type": "execute_result"
    }
   ],
   "source": [
    "h/len(g) ##### avarge mistake/difference in age (+-) "
   ]
  },
  {
   "cell_type": "markdown",
   "id": "0b6565e0",
   "metadata": {},
   "source": [
    "The mean age diffrance is already quite good. But it does have strong outliners(up to 35 years). So maybe we could try diffrente training function than log.reg. or split the age to age groupes "
   ]
  },
  {
   "cell_type": "code",
   "execution_count": 18,
   "id": "4e1a9cfe",
   "metadata": {},
   "outputs": [
    {
     "data": {
      "text/plain": [
       "35"
      ]
     },
     "execution_count": 18,
     "metadata": {},
     "output_type": "execute_result"
    }
   ],
   "source": [
    "max(g)  ### higest mistake/distance"
   ]
  },
  {
   "cell_type": "code",
   "execution_count": 19,
   "id": "b1eea230",
   "metadata": {},
   "outputs": [
    {
     "data": {
      "image/png": "[encoded data removed]",
      "text/plain": [
       "<Figure size 432x288 with 1 Axes>"
      ]
     },
     "metadata": {
      "needs_background": "light"
     },
     "output_type": "display_data"
    }
   ],
   "source": [
    "i = 0\n",
    "x=[]\n",
    "while i <= max(g):\n",
    "    x.append(g.count(i))\n",
    "    i= i+1\n",
    "y =list(range(36))\n",
    "plt.bar(y,x)\n",
    "plt.title('Predicted vs actual age diferences')\n",
    "plt.xlabel('age diffrencee')\n",
    "plt.ylabel('amount')\n",
    "plt.show()"
   ]
  },
  {
   "cell_type": "code",
   "execution_count": 1,
   "id": "d69e9aec",
   "metadata": {},
   "outputs": [
    {
     "ename": "NameError",
     "evalue": "name 'sns' is not defined",
     "output_type": "error",
     "traceback": [
      "\u001b[1;31m---------------------------------------------------------------------------\u001b[0m",
      "\u001b[1;31mNameError\u001b[0m                                 Traceback (most recent call last)",
      "\u001b[1;32mC:\\Users\\DANHAG~1\\AppData\\Local\\Temp/ipykernel_13044/3393160474.py\u001b[0m in \u001b[0;36m<module>\u001b[1;34m\u001b[0m\n\u001b[1;32m----> 1\u001b[1;33m \u001b[0max\u001b[0m \u001b[1;33m=\u001b[0m \u001b[0msns\u001b[0m\u001b[1;33m.\u001b[0m\u001b[0mheatmap\u001b[0m\u001b[1;33m(\u001b[0m\u001b[0mcf_matrix\u001b[0m\u001b[1;33m,\u001b[0m \u001b[0mannot\u001b[0m\u001b[1;33m=\u001b[0m\u001b[1;32mTrue\u001b[0m\u001b[1;33m,\u001b[0m \u001b[0mcmap\u001b[0m\u001b[1;33m=\u001b[0m\u001b[1;34m'Blues'\u001b[0m\u001b[1;33m)\u001b[0m\u001b[1;33m\u001b[0m\u001b[1;33m\u001b[0m\u001b[0m\n\u001b[0m\u001b[0;32m      2\u001b[0m \u001b[1;33m\u001b[0m\u001b[0m\n\u001b[0;32m      3\u001b[0m \u001b[0max\u001b[0m\u001b[1;33m.\u001b[0m\u001b[0mset_title\u001b[0m\u001b[1;33m(\u001b[0m\u001b[1;34m'Seaborn Confusion Matrix with labels\\n\\n'\u001b[0m\u001b[1;33m)\u001b[0m\u001b[1;33m;\u001b[0m\u001b[1;33m\u001b[0m\u001b[1;33m\u001b[0m\u001b[0m\n\u001b[0;32m      4\u001b[0m \u001b[0max\u001b[0m\u001b[1;33m.\u001b[0m\u001b[0mset_xlabel\u001b[0m\u001b[1;33m(\u001b[0m\u001b[1;34m'\\nPredicted Values'\u001b[0m\u001b[1;33m)\u001b[0m\u001b[1;33m\u001b[0m\u001b[1;33m\u001b[0m\u001b[0m\n\u001b[0;32m      5\u001b[0m \u001b[0max\u001b[0m\u001b[1;33m.\u001b[0m\u001b[0mset_ylabel\u001b[0m\u001b[1;33m(\u001b[0m\u001b[1;34m'Actual Values '\u001b[0m\u001b[1;33m)\u001b[0m\u001b[1;33m;\u001b[0m\u001b[1;33m\u001b[0m\u001b[1;33m\u001b[0m\u001b[0m\n",
      "\u001b[1;31mNameError\u001b[0m: name 'sns' is not defined"
     ]
    }
   ],
   "source": [
    "cf_matrix = confusion_matrix(list(y_test_tf.values), y_hat_test)\n",
    "cf_matrix[3]"
   ]
  },
  {
   "cell_type": "code",
   "execution_count": null,
   "id": "11645e95",
   "metadata": {},
   "outputs": [],
   "source": [
    "sns.set(rc =  {'figure.figsize':(40,40)},font_scale = 1)\n",
    "\n",
    "ax = sns.heatmap(cf_matrix, annot=True, \n",
    "             cmap='Blues' )\n",
    "\n",
    "\n",
    "\n",
    "\n",
    "ax.set_title('Seaborn Confusion Matrix with labels\\n\\n');\n",
    "ax.set_xlabel('\\nPredicted Age')\n",
    "ax.set_ylabel('Actual Age ');\n",
    "\n",
    "\n",
    "\n",
    "\n",
    "## Display the visualization of the Confusion Matrix.\n",
    "plt.show()"
   ]
  },
  {
   "cell_type": "markdown",
   "id": "05bc76ff",
   "metadata": {},
   "source": [
    "# Predicting signs as a joke  "
   ]
  },
  {
   "cell_type": "code",
   "execution_count": null,
   "id": "d1d4f955",
   "metadata": {},
   "outputs": [],
   "source": [
    "stars= [\"Aries\", \"Taurus\", \"Gemini\", \"Cancer\", \"Leo\", \"Virgo\", \"Libra\", \n",
    "        \"Scorpio\", \"Sagittarius\", \"Capricorn\", \"Aquarius\", \"Pisces\"]\n",
    "\n",
    "def star(lis):\n",
    "    k = []\n",
    "    for i in lis:\n",
    "        k.append(star.index(i))\n",
    "    return k\n"
   ]
  },
  {
   "cell_type": "code",
   "execution_count": null,
   "id": "cbc1dc76",
   "metadata": {},
   "outputs": [],
   "source": [
    "star(df_train.sign)"
   ]
  },
  {
   "cell_type": "code",
   "execution_count": null,
   "id": "e29dea6c",
   "metadata": {},
   "outputs": [],
   "source": [
    "y_train_start = star(df_train.sign)\n",
    "\n",
    "y_test_star = star(df_test.sign)"
   ]
  },
  {
   "cell_type": "code",
   "execution_count": null,
   "id": "7d1d4d85",
   "metadata": {},
   "outputs": [],
   "source": [
    "logreg = LogisticRegression()\n",
    "logreg.fit(X_train_tf , y_train_star)"
   ]
  },
  {
   "cell_type": "code",
   "execution_count": null,
   "id": "3251af1b",
   "metadata": {},
   "outputs": [],
   "source": [
    "y_hat_test = logreg.predict(X_test_tf)   #### array of predcted ages \n",
    "print(accuracy_score(y_test_star, y_hat_test))"
   ]
  },
  {
   "cell_type": "markdown",
   "id": "82ab7261",
   "metadata": {},
   "source": [
    "## Combined ages\n"
   ]
  },
  {
   "cell_type": "code",
   "execution_count": 15,
   "id": "1d69b203",
   "metadata": {},
   "outputs": [],
   "source": [
    "def combine(a):                                      ###############################################\n",
    "    i= 0\n",
    "    while i < len(a):\n",
    "        if a[i] == 17:\n",
    "            a[i]= 15\n",
    "            i= i+ 1\n",
    "        elif a[i] == 14:\n",
    "            a[i]= 13\n",
    "            i= i+ 1\n",
    "        elif a[i] == 16:\n",
    "            a[i]= 15\n",
    "            i= i+ 1\n",
    "        elif a[i] == 24:\n",
    "            a[i]= 23\n",
    "            i= i+ 1\n",
    "        elif a[i] == 26:\n",
    "            a[i]= 25\n",
    "            i= i+ 1\n",
    "        elif a[i] == 27:\n",
    "            a[i]= 25\n",
    "            i= i+ 1\n",
    "        elif a[i] == 34:\n",
    "            a[i]= 33\n",
    "            i= i+ 1\n",
    "        elif a[i] == 36:\n",
    "            a[i]= 35\n",
    "            i= i+ 1\n",
    "        elif a[i] == 38:\n",
    "            a[i]= 37\n",
    "            i= i+ 1\n",
    "        elif a[i] == 40:\n",
    "            a[i]= 39\n",
    "            i= i+ 1\n",
    "        elif a[i] == 42:\n",
    "            a[i]= 41\n",
    "            i= i+ 1\n",
    "        elif a[i] == 44:\n",
    "            a[i]= 43\n",
    "            i= i+ 1\n",
    "        elif a[i] == 46:\n",
    "            a[i]= 45\n",
    "            i= i+ 1\n",
    "        elif a[i] == 48:\n",
    "            a[i]= 47\n",
    "            i= i+ 1\n",
    "        else:\n",
    "            i=i+1"
   ]
  },
  {
   "cell_type": "code",
   "execution_count": 19,
   "id": "6bce5231",
   "metadata": {},
   "outputs": [],
   "source": [
    "y_train_red = df_train.age.values\n",
    "y_test_red = df_test.age.values"
   ]
  },
  {
   "cell_type": "code",
   "execution_count": 22,
   "id": "4e3b1d5d",
   "metadata": {},
   "outputs": [],
   "source": [
    "combine(y_train)\n",
    "combine(y_test)"
   ]
  },
  {
   "cell_type": "code",
   "execution_count": 24,
   "id": "86b4800d",
   "metadata": {},
   "outputs": [],
   "source": [
    "y_train_red = y_train_red.astype('int')\n",
    "y_test_red = y_test_red.astype('int')"
   ]
  },
  {
   "cell_type": "code",
   "execution_count": 31,
   "id": "947064e1",
   "metadata": {},
   "outputs": [],
   "source": [
    "logreg2 = LogisticRegression()"
   ]
  },
  {
   "cell_type": "code",
   "execution_count": 32,
   "id": "71165cd3",
   "metadata": {},
   "outputs": [
    {
     "name": "stderr",
     "output_type": "stream",
     "text": [
      "c:\\users\\dan hagen\\appdata\\local\\programs\\python\\python39\\lib\\site-packages\\sklearn\\linear_model\\_logistic.py:763: ConvergenceWarning: lbfgs failed to converge (status=1):\n",
      "STOP: TOTAL NO. of ITERATIONS REACHED LIMIT.\n",
      "\n",
      "Increase the number of iterations (max_iter) or scale the data as shown in:\n",
      "    https://scikit-learn.org/stable/modules/preprocessing.html\n",
      "Please also refer to the documentation for alternative solver options:\n",
      "    https://scikit-learn.org/stable/modules/linear_model.html#logistic-regression\n",
      "  n_iter_i = _check_optimize_result(\n"
     ]
    },
    {
     "data": {
      "text/plain": [
       "LogisticRegression()"
      ]
     },
     "execution_count": 32,
     "metadata": {},
     "output_type": "execute_result"
    }
   ],
   "source": [
    "logreg2.fit(X_train_tf , y_train_red)"
   ]
  },
  {
   "cell_type": "code",
   "execution_count": 33,
   "id": "e0907cec",
   "metadata": {},
   "outputs": [],
   "source": [
    "y_hat_red = logreg2.predict(X_test_tf)"
   ]
  },
  {
   "cell_type": "code",
   "execution_count": 34,
   "id": "0fb11e46",
   "metadata": {},
   "outputs": [
    {
     "name": "stdout",
     "output_type": "stream",
     "text": [
      "0.43042087031401366\n",
      "[0.39833532 0.53001068 0.35637064 0.36306979 0.40608229 0.40769231\n",
      " 0.59278351 0.95945946 1.         0.         1.         0.82978723]\n"
     ]
    }
   ],
   "source": [
    "print(accuracy_score(y_test_red, y_hat_red))\n",
    "print(precision_score(y_test_red, y_hat_red,average=None))"
   ]
  },
  {
   "cell_type": "code",
   "execution_count": 35,
   "id": "19b9433f",
   "metadata": {},
   "outputs": [
    {
     "data": {
      "text/plain": [
       "array([13, 15, 23, 25, 33, 35, 37, 39, 41, 43, 45, 47], dtype=int64)"
      ]
     },
     "execution_count": 35,
     "metadata": {},
     "output_type": "execute_result"
    }
   ],
   "source": [
    "logreg.classes_"
   ]
  },
  {
   "cell_type": "code",
   "execution_count": 38,
   "id": "c22144ca",
   "metadata": {},
   "outputs": [
    {
     "data": {
      "text/plain": [
       "[5995, 29242, 23126, 25349, 5706, 4754, 2438, 1577, 1010, 1031, 1064, 901]"
      ]
     },
     "execution_count": 38,
     "metadata": {},
     "output_type": "execute_result"
    }
   ],
   "source": [
    "counts"
   ]
  },
  {
   "cell_type": "code",
   "execution_count": 40,
   "id": "4709be6f",
   "metadata": {},
   "outputs": [],
   "source": [
    "l = y_hat_red-y_test_red   ### creates a list of diffrence between predicted ages and actual ages\n",
    "\n",
    "g= []    #### all negativ values are made positiv so just distanec between pred and actual value\n",
    "for i in l:\n",
    "    if i< 0:\n",
    "        g.append(-i)\n",
    "    else:\n",
    "        g.append(i)\n"
   ]
  },
  {
   "cell_type": "code",
   "execution_count": 41,
   "id": "1a7b0ffa",
   "metadata": {},
   "outputs": [],
   "source": [
    "h = 0   #####summs all distances to get avarege distance \n",
    "for i in  g:\n",
    "    h= h + i"
   ]
  },
  {
   "cell_type": "code",
   "execution_count": 42,
   "id": "4334490b",
   "metadata": {},
   "outputs": [
    {
     "data": {
      "text/plain": [
       "4.6667188554989085"
      ]
     },
     "execution_count": 42,
     "metadata": {},
     "output_type": "execute_result"
    }
   ],
   "source": [
    "h/len(g) "
   ]
  },
  {
   "cell_type": "code",
   "execution_count": 43,
   "id": "7a290193",
   "metadata": {},
   "outputs": [
    {
     "data": {
      "text/plain": [
       "34"
      ]
     },
     "execution_count": 43,
     "metadata": {},
     "output_type": "execute_result"
    }
   ],
   "source": [
    "max(g)"
   ]
  },
  {
   "cell_type": "code",
   "execution_count": 45,
   "id": "e01f2aa9",
   "metadata": {},
   "outputs": [
    {
     "data": {
      "image/png": "[encoded data removed]",
      "text/plain": [
       "<Figure size 432x288 with 1 Axes>"
      ]
     },
     "metadata": {
      "needs_background": "light"
     },
     "output_type": "display_data"
    }
   ],
   "source": [
    "i = 0\n",
    "x=[]\n",
    "while i <= max(g):\n",
    "    x.append(g.count(i))\n",
    "    i= i+1\n",
    "y =list(range(35))\n",
    "plt.bar(y,x)\n",
    "plt.title('Predicted vs actual age diferences')\n",
    "plt.xlabel('age diffrencee')\n",
    "plt.ylabel('amount')\n",
    "plt.show()"
   ]
  },
  {
   "cell_type": "code",
   "execution_count": 79,
   "id": "b36c8d6c",
   "metadata": {},
   "outputs": [],
   "source": [
    "def combine_decades(a):\n",
    "    i = 0\n",
    "    while i < len(a):\n",
    "        if a[i] <20:\n",
    "            a[i]= 10\n",
    "            i= i+ 1\n",
    "        elif a[i] <30:\n",
    "            a[i]= 20\n",
    "            i= i+ 1\n",
    "        elif a[i]< 40:\n",
    "            a[i]= 30\n",
    "            i= i+ 1\n",
    "        elif a[i]< 50:\n",
    "            a[i]= 40\n",
    "            i =i+1"
   ]
  },
  {
   "cell_type": "code",
   "execution_count": 80,
   "id": "f5ceb629",
   "metadata": {},
   "outputs": [],
   "source": [
    "y_train_dec = df_train.age.values\n",
    "y_test_dec = df_test.age.values"
   ]
  },
  {
   "cell_type": "code",
   "execution_count": 81,
   "id": "9c3ad4e3",
   "metadata": {},
   "outputs": [],
   "source": [
    "combine_decades(y_train)\n",
    "combine_decades(y_test)"
   ]
  },
  {
   "cell_type": "code",
   "execution_count": 82,
   "id": "96510d8b",
   "metadata": {},
   "outputs": [],
   "source": [
    "y_train_dec = y_train_dec.astype('int')\n",
    "y_test_dec= y_test_dec.astype('int')"
   ]
  },
  {
   "cell_type": "code",
   "execution_count": 83,
   "id": "b35ed372",
   "metadata": {},
   "outputs": [],
   "source": [
    "logreg3 = LogisticRegression()"
   ]
  },
  {
   "cell_type": "code",
   "execution_count": 84,
   "id": "2a9f3b35",
   "metadata": {},
   "outputs": [
    {
     "name": "stderr",
     "output_type": "stream",
     "text": [
      "c:\\users\\dan hagen\\appdata\\local\\programs\\python\\python39\\lib\\site-packages\\sklearn\\linear_model\\_logistic.py:763: ConvergenceWarning: lbfgs failed to converge (status=1):\n",
      "STOP: TOTAL NO. of ITERATIONS REACHED LIMIT.\n",
      "\n",
      "Increase the number of iterations (max_iter) or scale the data as shown in:\n",
      "    https://scikit-learn.org/stable/modules/preprocessing.html\n",
      "Please also refer to the documentation for alternative solver options:\n",
      "    https://scikit-learn.org/stable/modules/linear_model.html#logistic-regression\n",
      "  n_iter_i = _check_optimize_result(\n"
     ]
    },
    {
     "data": {
      "text/plain": [
       "LogisticRegression()"
      ]
     },
     "execution_count": 84,
     "metadata": {},
     "output_type": "execute_result"
    }
   ],
   "source": [
    "logreg3.fit(X_train_tf , y_train_dec)"
   ]
  },
  {
   "cell_type": "code",
   "execution_count": 85,
   "id": "a975d828",
   "metadata": {},
   "outputs": [],
   "source": [
    "y_hat_dec = logreg3.predict(X_test_tf)"
   ]
  },
  {
   "cell_type": "code",
   "execution_count": 86,
   "id": "0b4a49bb",
   "metadata": {},
   "outputs": [
    {
     "name": "stdout",
     "output_type": "stream",
     "text": [
      "0.8060532521796991\n",
      "[0.77545113 0.81759379]\n"
     ]
    }
   ],
   "source": [
    "print(accuracy_score(y_test_dec, y_hat_dec))\n",
    "print(precision_score(y_test_dec, y_hat_dec,average=None))"
   ]
  },
  {
   "cell_type": "code",
   "execution_count": 87,
   "id": "b60f7e8a",
   "metadata": {},
   "outputs": [],
   "source": [
    "l = y_hat_dec-y_test_dec   ### creates a list of diffrence between predicted ages and actual ages\n",
    "\n",
    "g= []    #### all negativ values are made positiv so just distanec between pred and actual value\n",
    "for i in l:\n",
    "    if i< 0:\n",
    "        g.append(-i)\n",
    "    else:\n",
    "        g.append(i)\n",
    "\n",
    "        \n",
    "h = 0   #####summs all distances to get avarege distance \n",
    "for i in  g:\n",
    "    h= h + i"
   ]
  },
  {
   "cell_type": "code",
   "execution_count": 88,
   "id": "51c6cfb9",
   "metadata": {},
   "outputs": [
    {
     "data": {
      "text/plain": [
       "0.1939467478203008"
      ]
     },
     "execution_count": 88,
     "metadata": {},
     "output_type": "execute_result"
    }
   ],
   "source": [
    "h/len(g) "
   ]
  },
  {
   "cell_type": "code",
   "execution_count": 89,
   "id": "25be1892",
   "metadata": {},
   "outputs": [
    {
     "data": {
      "text/plain": [
       "1"
      ]
     },
     "execution_count": 89,
     "metadata": {},
     "output_type": "execute_result"
    }
   ],
   "source": [
    "max(g)"
   ]
  },
  {
   "cell_type": "code",
   "execution_count": 90,
   "id": "0b8633f5",
   "metadata": {},
   "outputs": [
    {
     "ename": "ValueError",
     "evalue": "shape mismatch: objects cannot be broadcast to a single shape",
     "output_type": "error",
     "traceback": [
      "\u001b[1;31m---------------------------------------------------------------------------\u001b[0m",
      "\u001b[1;31mValueError\u001b[0m                                Traceback (most recent call last)",
      "\u001b[1;32mC:\\Users\\DANHAG~1\\AppData\\Local\\Temp/ipykernel_15216/1187861159.py\u001b[0m in \u001b[0;36m<module>\u001b[1;34m\u001b[0m\n\u001b[0;32m      5\u001b[0m     \u001b[0mi\u001b[0m\u001b[1;33m=\u001b[0m \u001b[0mi\u001b[0m\u001b[1;33m+\u001b[0m\u001b[1;36m1\u001b[0m\u001b[1;33m\u001b[0m\u001b[1;33m\u001b[0m\u001b[0m\n\u001b[0;32m      6\u001b[0m \u001b[0my\u001b[0m \u001b[1;33m=\u001b[0m\u001b[0mlist\u001b[0m\u001b[1;33m(\u001b[0m\u001b[0mrange\u001b[0m\u001b[1;33m(\u001b[0m\u001b[1;36m21\u001b[0m\u001b[1;33m)\u001b[0m\u001b[1;33m)\u001b[0m\u001b[1;33m\u001b[0m\u001b[1;33m\u001b[0m\u001b[0m\n\u001b[1;32m----> 7\u001b[1;33m \u001b[0mplt\u001b[0m\u001b[1;33m.\u001b[0m\u001b[0mbar\u001b[0m\u001b[1;33m(\u001b[0m\u001b[0my\u001b[0m\u001b[1;33m,\u001b[0m\u001b[0mx\u001b[0m\u001b[1;33m)\u001b[0m\u001b[1;33m\u001b[0m\u001b[1;33m\u001b[0m\u001b[0m\n\u001b[0m\u001b[0;32m      8\u001b[0m \u001b[0mplt\u001b[0m\u001b[1;33m.\u001b[0m\u001b[0mtitle\u001b[0m\u001b[1;33m(\u001b[0m\u001b[1;34m'Predicted vs actual age diferences'\u001b[0m\u001b[1;33m)\u001b[0m\u001b[1;33m\u001b[0m\u001b[1;33m\u001b[0m\u001b[0m\n\u001b[0;32m      9\u001b[0m \u001b[0mplt\u001b[0m\u001b[1;33m.\u001b[0m\u001b[0mxlabel\u001b[0m\u001b[1;33m(\u001b[0m\u001b[1;34m'age diffrencee'\u001b[0m\u001b[1;33m)\u001b[0m\u001b[1;33m\u001b[0m\u001b[1;33m\u001b[0m\u001b[0m\n",
      "\u001b[1;32mc:\\users\\dan hagen\\appdata\\local\\programs\\python\\python39\\lib\\site-packages\\matplotlib\\pyplot.py\u001b[0m in \u001b[0;36mbar\u001b[1;34m(x, height, width, bottom, align, data, **kwargs)\u001b[0m\n\u001b[0;32m   2649\u001b[0m         \u001b[0mx\u001b[0m\u001b[1;33m,\u001b[0m \u001b[0mheight\u001b[0m\u001b[1;33m,\u001b[0m \u001b[0mwidth\u001b[0m\u001b[1;33m=\u001b[0m\u001b[1;36m0.8\u001b[0m\u001b[1;33m,\u001b[0m \u001b[0mbottom\u001b[0m\u001b[1;33m=\u001b[0m\u001b[1;32mNone\u001b[0m\u001b[1;33m,\u001b[0m \u001b[1;33m*\u001b[0m\u001b[1;33m,\u001b[0m \u001b[0malign\u001b[0m\u001b[1;33m=\u001b[0m\u001b[1;34m'center'\u001b[0m\u001b[1;33m,\u001b[0m\u001b[1;33m\u001b[0m\u001b[1;33m\u001b[0m\u001b[0m\n\u001b[0;32m   2650\u001b[0m         data=None, **kwargs):\n\u001b[1;32m-> 2651\u001b[1;33m     return gca().bar(\n\u001b[0m\u001b[0;32m   2652\u001b[0m         \u001b[0mx\u001b[0m\u001b[1;33m,\u001b[0m \u001b[0mheight\u001b[0m\u001b[1;33m,\u001b[0m \u001b[0mwidth\u001b[0m\u001b[1;33m=\u001b[0m\u001b[0mwidth\u001b[0m\u001b[1;33m,\u001b[0m \u001b[0mbottom\u001b[0m\u001b[1;33m=\u001b[0m\u001b[0mbottom\u001b[0m\u001b[1;33m,\u001b[0m \u001b[0malign\u001b[0m\u001b[1;33m=\u001b[0m\u001b[0malign\u001b[0m\u001b[1;33m,\u001b[0m\u001b[1;33m\u001b[0m\u001b[1;33m\u001b[0m\u001b[0m\n\u001b[0;32m   2653\u001b[0m         **({\"data\": data} if data is not None else {}), **kwargs)\n",
      "\u001b[1;32mc:\\users\\dan hagen\\appdata\\local\\programs\\python\\python39\\lib\\site-packages\\matplotlib\\__init__.py\u001b[0m in \u001b[0;36minner\u001b[1;34m(ax, data, *args, **kwargs)\u001b[0m\n\u001b[0;32m   1359\u001b[0m     \u001b[1;32mdef\u001b[0m \u001b[0minner\u001b[0m\u001b[1;33m(\u001b[0m\u001b[0max\u001b[0m\u001b[1;33m,\u001b[0m \u001b[1;33m*\u001b[0m\u001b[0margs\u001b[0m\u001b[1;33m,\u001b[0m \u001b[0mdata\u001b[0m\u001b[1;33m=\u001b[0m\u001b[1;32mNone\u001b[0m\u001b[1;33m,\u001b[0m \u001b[1;33m**\u001b[0m\u001b[0mkwargs\u001b[0m\u001b[1;33m)\u001b[0m\u001b[1;33m:\u001b[0m\u001b[1;33m\u001b[0m\u001b[1;33m\u001b[0m\u001b[0m\n\u001b[0;32m   1360\u001b[0m         \u001b[1;32mif\u001b[0m \u001b[0mdata\u001b[0m \u001b[1;32mis\u001b[0m \u001b[1;32mNone\u001b[0m\u001b[1;33m:\u001b[0m\u001b[1;33m\u001b[0m\u001b[1;33m\u001b[0m\u001b[0m\n\u001b[1;32m-> 1361\u001b[1;33m             \u001b[1;32mreturn\u001b[0m \u001b[0mfunc\u001b[0m\u001b[1;33m(\u001b[0m\u001b[0max\u001b[0m\u001b[1;33m,\u001b[0m \u001b[1;33m*\u001b[0m\u001b[0mmap\u001b[0m\u001b[1;33m(\u001b[0m\u001b[0msanitize_sequence\u001b[0m\u001b[1;33m,\u001b[0m \u001b[0margs\u001b[0m\u001b[1;33m)\u001b[0m\u001b[1;33m,\u001b[0m \u001b[1;33m**\u001b[0m\u001b[0mkwargs\u001b[0m\u001b[1;33m)\u001b[0m\u001b[1;33m\u001b[0m\u001b[1;33m\u001b[0m\u001b[0m\n\u001b[0m\u001b[0;32m   1362\u001b[0m \u001b[1;33m\u001b[0m\u001b[0m\n\u001b[0;32m   1363\u001b[0m         \u001b[0mbound\u001b[0m \u001b[1;33m=\u001b[0m \u001b[0mnew_sig\u001b[0m\u001b[1;33m.\u001b[0m\u001b[0mbind\u001b[0m\u001b[1;33m(\u001b[0m\u001b[0max\u001b[0m\u001b[1;33m,\u001b[0m \u001b[1;33m*\u001b[0m\u001b[0margs\u001b[0m\u001b[1;33m,\u001b[0m \u001b[1;33m**\u001b[0m\u001b[0mkwargs\u001b[0m\u001b[1;33m)\u001b[0m\u001b[1;33m\u001b[0m\u001b[1;33m\u001b[0m\u001b[0m\n",
      "\u001b[1;32mc:\\users\\dan hagen\\appdata\\local\\programs\\python\\python39\\lib\\site-packages\\matplotlib\\axes\\_axes.py\u001b[0m in \u001b[0;36mbar\u001b[1;34m(self, x, height, width, bottom, align, **kwargs)\u001b[0m\n\u001b[0;32m   2302\u001b[0m                 \u001b[0myerr\u001b[0m \u001b[1;33m=\u001b[0m \u001b[0mself\u001b[0m\u001b[1;33m.\u001b[0m\u001b[0m_convert_dx\u001b[0m\u001b[1;33m(\u001b[0m\u001b[0myerr\u001b[0m\u001b[1;33m,\u001b[0m \u001b[0my0\u001b[0m\u001b[1;33m,\u001b[0m \u001b[0my\u001b[0m\u001b[1;33m,\u001b[0m \u001b[0mself\u001b[0m\u001b[1;33m.\u001b[0m\u001b[0mconvert_yunits\u001b[0m\u001b[1;33m)\u001b[0m\u001b[1;33m\u001b[0m\u001b[1;33m\u001b[0m\u001b[0m\n\u001b[0;32m   2303\u001b[0m \u001b[1;33m\u001b[0m\u001b[0m\n\u001b[1;32m-> 2304\u001b[1;33m         x, height, width, y, linewidth, hatch = np.broadcast_arrays(\n\u001b[0m\u001b[0;32m   2305\u001b[0m             \u001b[1;31m# Make args iterable too.\u001b[0m\u001b[1;33m\u001b[0m\u001b[1;33m\u001b[0m\u001b[1;33m\u001b[0m\u001b[0m\n\u001b[0;32m   2306\u001b[0m             np.atleast_1d(x), height, width, y, linewidth, hatch)\n",
      "\u001b[1;32m<__array_function__ internals>\u001b[0m in \u001b[0;36mbroadcast_arrays\u001b[1;34m(*args, **kwargs)\u001b[0m\n",
      "\u001b[1;32mc:\\users\\dan hagen\\appdata\\local\\programs\\python\\python39\\lib\\site-packages\\numpy\\lib\\stride_tricks.py\u001b[0m in \u001b[0;36mbroadcast_arrays\u001b[1;34m(subok, *args)\u001b[0m\n\u001b[0;32m    536\u001b[0m     \u001b[0margs\u001b[0m \u001b[1;33m=\u001b[0m \u001b[1;33m[\u001b[0m\u001b[0mnp\u001b[0m\u001b[1;33m.\u001b[0m\u001b[0marray\u001b[0m\u001b[1;33m(\u001b[0m\u001b[0m_m\u001b[0m\u001b[1;33m,\u001b[0m \u001b[0mcopy\u001b[0m\u001b[1;33m=\u001b[0m\u001b[1;32mFalse\u001b[0m\u001b[1;33m,\u001b[0m \u001b[0msubok\u001b[0m\u001b[1;33m=\u001b[0m\u001b[0msubok\u001b[0m\u001b[1;33m)\u001b[0m \u001b[1;32mfor\u001b[0m \u001b[0m_m\u001b[0m \u001b[1;32min\u001b[0m \u001b[0margs\u001b[0m\u001b[1;33m]\u001b[0m\u001b[1;33m\u001b[0m\u001b[1;33m\u001b[0m\u001b[0m\n\u001b[0;32m    537\u001b[0m \u001b[1;33m\u001b[0m\u001b[0m\n\u001b[1;32m--> 538\u001b[1;33m     \u001b[0mshape\u001b[0m \u001b[1;33m=\u001b[0m \u001b[0m_broadcast_shape\u001b[0m\u001b[1;33m(\u001b[0m\u001b[1;33m*\u001b[0m\u001b[0margs\u001b[0m\u001b[1;33m)\u001b[0m\u001b[1;33m\u001b[0m\u001b[1;33m\u001b[0m\u001b[0m\n\u001b[0m\u001b[0;32m    539\u001b[0m \u001b[1;33m\u001b[0m\u001b[0m\n\u001b[0;32m    540\u001b[0m     \u001b[1;32mif\u001b[0m \u001b[0mall\u001b[0m\u001b[1;33m(\u001b[0m\u001b[0marray\u001b[0m\u001b[1;33m.\u001b[0m\u001b[0mshape\u001b[0m \u001b[1;33m==\u001b[0m \u001b[0mshape\u001b[0m \u001b[1;32mfor\u001b[0m \u001b[0marray\u001b[0m \u001b[1;32min\u001b[0m \u001b[0margs\u001b[0m\u001b[1;33m)\u001b[0m\u001b[1;33m:\u001b[0m\u001b[1;33m\u001b[0m\u001b[1;33m\u001b[0m\u001b[0m\n",
      "\u001b[1;32mc:\\users\\dan hagen\\appdata\\local\\programs\\python\\python39\\lib\\site-packages\\numpy\\lib\\stride_tricks.py\u001b[0m in \u001b[0;36m_broadcast_shape\u001b[1;34m(*args)\u001b[0m\n\u001b[0;32m    418\u001b[0m     \u001b[1;31m# use the old-iterator because np.nditer does not handle size 0 arrays\u001b[0m\u001b[1;33m\u001b[0m\u001b[1;33m\u001b[0m\u001b[1;33m\u001b[0m\u001b[0m\n\u001b[0;32m    419\u001b[0m     \u001b[1;31m# consistently\u001b[0m\u001b[1;33m\u001b[0m\u001b[1;33m\u001b[0m\u001b[1;33m\u001b[0m\u001b[0m\n\u001b[1;32m--> 420\u001b[1;33m     \u001b[0mb\u001b[0m \u001b[1;33m=\u001b[0m \u001b[0mnp\u001b[0m\u001b[1;33m.\u001b[0m\u001b[0mbroadcast\u001b[0m\u001b[1;33m(\u001b[0m\u001b[1;33m*\u001b[0m\u001b[0margs\u001b[0m\u001b[1;33m[\u001b[0m\u001b[1;33m:\u001b[0m\u001b[1;36m32\u001b[0m\u001b[1;33m]\u001b[0m\u001b[1;33m)\u001b[0m\u001b[1;33m\u001b[0m\u001b[1;33m\u001b[0m\u001b[0m\n\u001b[0m\u001b[0;32m    421\u001b[0m     \u001b[1;31m# unfortunately, it cannot handle 32 or more arguments directly\u001b[0m\u001b[1;33m\u001b[0m\u001b[1;33m\u001b[0m\u001b[1;33m\u001b[0m\u001b[0m\n\u001b[0;32m    422\u001b[0m     \u001b[1;32mfor\u001b[0m \u001b[0mpos\u001b[0m \u001b[1;32min\u001b[0m \u001b[0mrange\u001b[0m\u001b[1;33m(\u001b[0m\u001b[1;36m32\u001b[0m\u001b[1;33m,\u001b[0m \u001b[0mlen\u001b[0m\u001b[1;33m(\u001b[0m\u001b[0margs\u001b[0m\u001b[1;33m)\u001b[0m\u001b[1;33m,\u001b[0m \u001b[1;36m31\u001b[0m\u001b[1;33m)\u001b[0m\u001b[1;33m:\u001b[0m\u001b[1;33m\u001b[0m\u001b[1;33m\u001b[0m\u001b[0m\n",
      "\u001b[1;31mValueError\u001b[0m: shape mismatch: objects cannot be broadcast to a single shape"
     ]
    },
    {
     "data": {
      "image/png": "[encoded data removed]",
      "text/plain": [
       "<Figure size 432x288 with 1 Axes>"
      ]
     },
     "metadata": {
      "needs_background": "light"
     },
     "output_type": "display_data"
    }
   ],
   "source": [
    "i = 0\n",
    "x=[]\n",
    "while i <= max(g):\n",
    "    x.append(g.count(i))\n",
    "    i= i+1\n",
    "y =list(range(21))\n",
    "plt.bar(y,x)\n",
    "plt.title('Predicted vs actual age diferences')\n",
    "plt.xlabel('age diffrencee')\n",
    "plt.ylabel('amount')\n",
    "plt.show()"
   ]
  },
  {
   "cell_type": "code",
   "execution_count": 94,
   "id": "db1d800d",
   "metadata": {},
   "outputs": [
    {
     "data": {
      "text/plain": [
       "array([[21701, 13536],\n",
       "       [ 6284, 60672]], dtype=int64)"
      ]
     },
     "execution_count": 94,
     "metadata": {},
     "output_type": "execute_result"
    }
   ],
   "source": [
    "cf_matrix = confusion_matrix(y_test_dec, y_hat_dec)\n",
    "cf_matrix"
   ]
  },
  {
   "cell_type": "code",
   "execution_count": 99,
   "id": "77c79cd3",
   "metadata": {},
   "outputs": [
    {
     "data": {
      "image/png": "[encoded data removed]",
      "text/plain": [
       "<Figure size 2880x2880 with 2 Axes>"
      ]
     },
     "metadata": {},
     "output_type": "display_data"
    }
   ],
   "source": [
    "sns.set(rc =  {'figure.figsize':(40,40)},font_scale = 5)\n",
    "\n",
    "ax = sns.heatmap(cf_matrix, annot=True, \n",
    "             cmap='Blues' )\n",
    "\n",
    "\n",
    "\n",
    "\n",
    "ax.set_title('Seaborn Confusion Matrix with labels\\n\\n');\n",
    "ax.set_xlabel('\\nPredicted Age')\n",
    "ax.set_ylabel('Actual Age ');\n",
    "\n",
    "\n",
    "\n",
    "\n",
    "## Display the visualization of the Confusion Matrix.\n",
    "plt.show()"
   ]
  },
  {
   "cell_type": "markdown",
   "id": "a2ce700e",
   "metadata": {},
   "source": [
    "## Adding ngrams"
   ]
  },
  {
   "cell_type": "code",
   "execution_count": null,
   "id": "f704dbbf",
   "metadata": {},
   "outputs": [],
   "source": []
  },
  {
   "cell_type": "code",
   "execution_count": null,
   "id": "e57d1cfb",
   "metadata": {},
   "outputs": [],
   "source": []
  }
 ],
 "metadata": {
  "kernelspec": {
   "display_name": "Python 3 (ipykernel)",
   "language": "python",
   "name": "python3"
  },
  "language_info": {
   "codemirror_mode": {
    "name": "ipython",
    "version": 3
   },
   "file_extension": ".py",
   "mimetype": "text/x-python",
   "name": "python",
   "nbconvert_exporter": "python",
   "pygments_lexer": "ipython3",
   "version": "3.9.5"
  }
 },
 "nbformat": 4,
 "nbformat_minor": 5
}
